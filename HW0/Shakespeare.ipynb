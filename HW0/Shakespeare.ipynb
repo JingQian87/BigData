{
 "cells": [
  {
   "cell_type": "code",
   "execution_count": 22,
   "metadata": {},
   "outputs": [],
   "source": [
    "# Import text from bucket shakes0\n",
    "from pyspark import SparkContext\n",
    "sc = SparkContext.getOrCreate()\n",
    "url = \"gs://shakes0/shakes.txt\"\n",
    "txt = sc.textFile(url)"
   ]
  },
  {
   "cell_type": "code",
   "execution_count": 25,
   "metadata": {},
   "outputs": [
    {
     "data": {
      "text/plain": [
       "[(u'the', 620), (u'and', 427), (u'of', 396), (u'to', 367), (u'I', 326)]"
      ]
     },
     "execution_count": 25,
     "metadata": {},
     "output_type": "execute_result"
    }
   ],
   "source": [
    "# Method 1: learn from wordCounts, without text preprocessing\n",
    "words = txt.flatMap(lambda line: line.split())\n",
    "# words.collect()\n",
    "wordCounts = words.map(lambda word: (word, 1)).reduceByKey(lambda count1, count2: count1 + count2)\n",
    "wordCounts.takeOrdered(5,key=lambda x:-x[1])"
   ]
  },
  {
   "cell_type": "code",
   "execution_count": 26,
   "metadata": {},
   "outputs": [],
   "source": [
    "# Method 2: filtering out stop words provided by NLTK package\n",
    "import nltk\n",
    "\n",
    "def tokenizer(x):\n",
    "    from nltk.tokenize import RegexpTokenizer\n",
    "    token = RegexpTokenizer(r'\\w+')\n",
    "    return token.tokenize(x)\n",
    "\n",
    "tokens = txt.flatMap(tokenizer)"
   ]
  },
  {
   "cell_type": "code",
   "execution_count": 27,
   "metadata": {},
   "outputs": [
    {
     "name": "stdout",
     "output_type": "stream",
     "text": [
      "[nltk_data] Downloading package stopwords to /root/nltk_data...\n",
      "[nltk_data]   Unzipping corpora/stopwords.zip.\n"
     ]
    }
   ],
   "source": [
    "nltk.download('stopwords')\n",
    "from nltk.corpus import stopwords\n",
    "stop_words = set(stopwords.words('english'))\n",
    "tokens = tokens.filter(lambda word : word[0] not in stop_words)"
   ]
  },
  {
   "cell_type": "code",
   "execution_count": 28,
   "metadata": {},
   "outputs": [
    {
     "data": {
      "text/plain": [
       "[(u'I', 346), (u'And', 170), (u'not', 165), (u'with', 143), (u'be', 138)]"
      ]
     },
     "execution_count": 28,
     "metadata": {},
     "output_type": "execute_result"
    }
   ],
   "source": [
    "wordCount2 = tokens.map(lambda word: (word, 1)).reduceByKey(lambda count1, count2: count1 + count2)\n",
    "wordCount2.takeOrdered(5,key=lambda x:-x[1])"
   ]
  }
 ],
 "metadata": {
  "kernelspec": {
   "display_name": "PySpark",
   "language": "python",
   "name": "pyspark"
  },
  "language_info": {
   "codemirror_mode": {
    "name": "ipython",
    "version": 2
   },
   "file_extension": ".py",
   "mimetype": "text/x-python",
   "name": "python",
   "nbconvert_exporter": "python",
   "pygments_lexer": "ipython2",
   "version": "2.7.14"
  }
 },
 "nbformat": 4,
 "nbformat_minor": 2
}