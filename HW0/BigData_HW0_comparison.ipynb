{
  "nbformat": 4,
  "nbformat_minor": 0,
  "metadata": {
    "colab": {
      "name": "BigData-HW0-comparison.ipynb",
      "version": "0.3.2",
      "provenance": [],
      "collapsed_sections": []
    },
    "kernelspec": {
      "name": "python3",
      "display_name": "Python 3"
    }
  },
  "cells": [
    {
      "cell_type": "markdown",
      "metadata": {
        "id": "m-3R141lVO86",
        "colab_type": "text"
      },
      "source": [
        "## Q2. BigQuery of NYC Bike"
      ]
    },
    {
      "cell_type": "code",
      "metadata": {
        "id": "bvwevld-U3WQ",
        "colab_type": "code",
        "colab": {
          "base_uri": "https://localhost:8080/",
          "height": 122
        },
        "outputId": "82a4455c-409d-4880-faf0-3582d90e9b3c"
      },
      "source": [
        "import numpy as np\n",
        "import nltk\n",
        "import pandas as pd\n",
        "\n",
        "from google.colab import drive\n",
        "drive.mount('/content/gdrive')"
      ],
      "execution_count": 1,
      "outputs": [
        {
          "output_type": "stream",
          "text": [
            "Go to this URL in a browser: https://accounts.google.com/o/oauth2/auth?client_id=947318989803-6bn6qk8qdgf4n4g3pfee6491hc0brc4i.apps.googleusercontent.com&redirect_uri=urn%3Aietf%3Awg%3Aoauth%3A2.0%3Aoob&scope=email%20https%3A%2F%2Fwww.googleapis.com%2Fauth%2Fdocs.test%20https%3A%2F%2Fwww.googleapis.com%2Fauth%2Fdrive%20https%3A%2F%2Fwww.googleapis.com%2Fauth%2Fdrive.photos.readonly%20https%3A%2F%2Fwww.googleapis.com%2Fauth%2Fpeopleapi.readonly&response_type=code\n",
            "\n",
            "Enter your authorization code:\n",
            "··········\n",
            "Mounted at /content/gdrive\n"
          ],
          "name": "stdout"
        }
      ]
    },
    {
      "cell_type": "code",
      "metadata": {
        "id": "g01W7dNtVUup",
        "colab_type": "code",
        "colab": {
          "base_uri": "https://localhost:8080/",
          "height": 360
        },
        "outputId": "d3ddc43e-1f31-4cc0-94d8-2bd61e61e45a"
      },
      "source": [
        "data = pd.read_csv('/content/gdrive/My Drive/BigData/data_citibike_stations.csv',encoding = \"ISO-8859-1\")\n",
        "data.head()"
      ],
      "execution_count": 2,
      "outputs": [
        {
          "output_type": "execute_result",
          "data": {
            "text/html": [
              "<div>\n",
              "<style scoped>\n",
              "    .dataframe tbody tr th:only-of-type {\n",
              "        vertical-align: middle;\n",
              "    }\n",
              "\n",
              "    .dataframe tbody tr th {\n",
              "        vertical-align: top;\n",
              "    }\n",
              "\n",
              "    .dataframe thead th {\n",
              "        text-align: right;\n",
              "    }\n",
              "</style>\n",
              "<table border=\"1\" class=\"dataframe\">\n",
              "  <thead>\n",
              "    <tr style=\"text-align: right;\">\n",
              "      <th></th>\n",
              "      <th>station_id</th>\n",
              "      <th>name</th>\n",
              "      <th>short_name</th>\n",
              "      <th>latitude</th>\n",
              "      <th>longitude</th>\n",
              "      <th>region_id</th>\n",
              "      <th>rental_methods</th>\n",
              "      <th>capacity</th>\n",
              "      <th>eightd_has_key_dispenser</th>\n",
              "      <th>num_bikes_available</th>\n",
              "      <th>num_bikes_disabled</th>\n",
              "      <th>num_docks_available</th>\n",
              "      <th>num_docks_disabled</th>\n",
              "      <th>is_installed</th>\n",
              "      <th>is_renting</th>\n",
              "      <th>is_returning</th>\n",
              "      <th>eightd_has_available_keys</th>\n",
              "      <th>last_reported</th>\n",
              "    </tr>\n",
              "  </thead>\n",
              "  <tbody>\n",
              "    <tr>\n",
              "      <th>0</th>\n",
              "      <td>382</td>\n",
              "      <td>University Pl &amp; E 14 St</td>\n",
              "      <td>5905.11</td>\n",
              "      <td>40.734927</td>\n",
              "      <td>-73.992005</td>\n",
              "      <td>71</td>\n",
              "      <td>KEY,CREDITCARD</td>\n",
              "      <td>0</td>\n",
              "      <td>False</td>\n",
              "      <td>0</td>\n",
              "      <td>0</td>\n",
              "      <td>0</td>\n",
              "      <td>0</td>\n",
              "      <td>False</td>\n",
              "      <td>False</td>\n",
              "      <td>False</td>\n",
              "      <td>False</td>\n",
              "      <td>1970-01-01 00:00:00</td>\n",
              "    </tr>\n",
              "    <tr>\n",
              "      <th>1</th>\n",
              "      <td>3338</td>\n",
              "      <td>2 Ave &amp; E 99 St</td>\n",
              "      <td>7386.10</td>\n",
              "      <td>40.786259</td>\n",
              "      <td>-73.945526</td>\n",
              "      <td>71</td>\n",
              "      <td>KEY,CREDITCARD</td>\n",
              "      <td>0</td>\n",
              "      <td>False</td>\n",
              "      <td>0</td>\n",
              "      <td>0</td>\n",
              "      <td>0</td>\n",
              "      <td>0</td>\n",
              "      <td>True</td>\n",
              "      <td>True</td>\n",
              "      <td>True</td>\n",
              "      <td>False</td>\n",
              "      <td>1970-01-01 00:00:00</td>\n",
              "    </tr>\n",
              "    <tr>\n",
              "      <th>2</th>\n",
              "      <td>3512</td>\n",
              "      <td>27 Ave &amp; 4 St</td>\n",
              "      <td>7132.01</td>\n",
              "      <td>40.774718</td>\n",
              "      <td>-73.933789</td>\n",
              "      <td>71</td>\n",
              "      <td>KEY,CREDITCARD</td>\n",
              "      <td>0</td>\n",
              "      <td>False</td>\n",
              "      <td>0</td>\n",
              "      <td>0</td>\n",
              "      <td>0</td>\n",
              "      <td>0</td>\n",
              "      <td>False</td>\n",
              "      <td>False</td>\n",
              "      <td>False</td>\n",
              "      <td>False</td>\n",
              "      <td>1970-01-01 00:00:00</td>\n",
              "    </tr>\n",
              "    <tr>\n",
              "      <th>3</th>\n",
              "      <td>3709</td>\n",
              "      <td>W 15 St &amp; 6 Ave</td>\n",
              "      <td>5989.02</td>\n",
              "      <td>40.738046</td>\n",
              "      <td>-73.996430</td>\n",
              "      <td>71</td>\n",
              "      <td>KEY,CREDITCARD</td>\n",
              "      <td>0</td>\n",
              "      <td>False</td>\n",
              "      <td>0</td>\n",
              "      <td>0</td>\n",
              "      <td>0</td>\n",
              "      <td>0</td>\n",
              "      <td>False</td>\n",
              "      <td>False</td>\n",
              "      <td>False</td>\n",
              "      <td>False</td>\n",
              "      <td>1970-01-01 00:00:00</td>\n",
              "    </tr>\n",
              "    <tr>\n",
              "      <th>4</th>\n",
              "      <td>3584</td>\n",
              "      <td>Eastern Pkwy &amp; Franklin Ave</td>\n",
              "      <td>3919.07</td>\n",
              "      <td>40.670777</td>\n",
              "      <td>-73.957680</td>\n",
              "      <td>71</td>\n",
              "      <td>KEY,CREDITCARD</td>\n",
              "      <td>1</td>\n",
              "      <td>False</td>\n",
              "      <td>0</td>\n",
              "      <td>0</td>\n",
              "      <td>1</td>\n",
              "      <td>0</td>\n",
              "      <td>False</td>\n",
              "      <td>False</td>\n",
              "      <td>False</td>\n",
              "      <td>False</td>\n",
              "      <td>2019-09-01 00:00:00</td>\n",
              "    </tr>\n",
              "  </tbody>\n",
              "</table>\n",
              "</div>"
            ],
            "text/plain": [
              "   station_id  ...        last_reported\n",
              "0         382  ...  1970-01-01 00:00:00\n",
              "1        3338  ...  1970-01-01 00:00:00\n",
              "2        3512  ...  1970-01-01 00:00:00\n",
              "3        3709  ...  1970-01-01 00:00:00\n",
              "4        3584  ...  2019-09-01 00:00:00\n",
              "\n",
              "[5 rows x 18 columns]"
            ]
          },
          "metadata": {
            "tags": []
          },
          "execution_count": 2
        }
      ]
    },
    {
      "cell_type": "code",
      "metadata": {
        "id": "iAg5aAXSXvM4",
        "colab_type": "code",
        "colab": {
          "base_uri": "https://localhost:8080/",
          "height": 340
        },
        "outputId": "34fac348-e5eb-418d-e248-24c72f7551c9"
      },
      "source": [
        "data.dtypes"
      ],
      "execution_count": 13,
      "outputs": [
        {
          "output_type": "execute_result",
          "data": {
            "text/plain": [
              "station_id                     int64\n",
              "name                          object\n",
              "short_name                    object\n",
              "latitude                     float64\n",
              "longitude                    float64\n",
              "region_id                      int64\n",
              "rental_methods                object\n",
              "capacity                       int64\n",
              "eightd_has_key_dispenser        bool\n",
              "num_bikes_available            int64\n",
              "num_bikes_disabled             int64\n",
              "num_docks_available            int64\n",
              "num_docks_disabled             int64\n",
              "is_installed                    bool\n",
              "is_renting                      bool\n",
              "is_returning                    bool\n",
              "eightd_has_available_keys       bool\n",
              "last_reported                 object\n",
              "dtype: object"
            ]
          },
          "metadata": {
            "tags": []
          },
          "execution_count": 13
        }
      ]
    },
    {
      "cell_type": "code",
      "metadata": {
        "id": "px0sQQx1Vs0a",
        "colab_type": "code",
        "colab": {
          "base_uri": "https://localhost:8080/",
          "height": 340
        },
        "outputId": "852a9b8c-b301-4bcb-8e5f-7e781c1fcea7"
      },
      "source": [
        "data.nunique()"
      ],
      "execution_count": 3,
      "outputs": [
        {
          "output_type": "execute_result",
          "data": {
            "text/plain": [
              "station_id                   843\n",
              "name                         843\n",
              "short_name                   843\n",
              "latitude                     842\n",
              "longitude                    843\n",
              "region_id                      2\n",
              "rental_methods                 1\n",
              "capacity                      62\n",
              "eightd_has_key_dispenser       2\n",
              "num_bikes_available           52\n",
              "num_bikes_disabled             7\n",
              "num_docks_available           61\n",
              "num_docks_disabled             6\n",
              "is_installed                   2\n",
              "is_renting                     2\n",
              "is_returning                   2\n",
              "eightd_has_available_keys      2\n",
              "last_reported                  6\n",
              "dtype: int64"
            ]
          },
          "metadata": {
            "tags": []
          },
          "execution_count": 3
        }
      ]
    },
    {
      "cell_type": "code",
      "metadata": {
        "id": "srpV2eG0WC4-",
        "colab_type": "code",
        "colab": {
          "base_uri": "https://localhost:8080/",
          "height": 411
        },
        "outputId": "b9a3dc6e-c20c-4997-ac53-db0edb6763b1"
      },
      "source": [
        "data = data.sort_values(by=['capacity'], ascending=False)\n",
        "data.head()"
      ],
      "execution_count": 6,
      "outputs": [
        {
          "output_type": "execute_result",
          "data": {
            "text/html": [
              "<div>\n",
              "<style scoped>\n",
              "    .dataframe tbody tr th:only-of-type {\n",
              "        vertical-align: middle;\n",
              "    }\n",
              "\n",
              "    .dataframe tbody tr th {\n",
              "        vertical-align: top;\n",
              "    }\n",
              "\n",
              "    .dataframe thead th {\n",
              "        text-align: right;\n",
              "    }\n",
              "</style>\n",
              "<table border=\"1\" class=\"dataframe\">\n",
              "  <thead>\n",
              "    <tr style=\"text-align: right;\">\n",
              "      <th></th>\n",
              "      <th>station_id</th>\n",
              "      <th>name</th>\n",
              "      <th>short_name</th>\n",
              "      <th>latitude</th>\n",
              "      <th>longitude</th>\n",
              "      <th>region_id</th>\n",
              "      <th>rental_methods</th>\n",
              "      <th>capacity</th>\n",
              "      <th>eightd_has_key_dispenser</th>\n",
              "      <th>num_bikes_available</th>\n",
              "      <th>num_bikes_disabled</th>\n",
              "      <th>num_docks_available</th>\n",
              "      <th>num_docks_disabled</th>\n",
              "      <th>is_installed</th>\n",
              "      <th>is_renting</th>\n",
              "      <th>is_returning</th>\n",
              "      <th>eightd_has_available_keys</th>\n",
              "      <th>last_reported</th>\n",
              "    </tr>\n",
              "  </thead>\n",
              "  <tbody>\n",
              "    <tr>\n",
              "      <th>842</th>\n",
              "      <td>445</td>\n",
              "      <td>E 10 St &amp; Avenue A</td>\n",
              "      <td>5659.05</td>\n",
              "      <td>40.727408</td>\n",
              "      <td>-73.981420</td>\n",
              "      <td>71</td>\n",
              "      <td>KEY,CREDITCARD</td>\n",
              "      <td>79</td>\n",
              "      <td>False</td>\n",
              "      <td>66</td>\n",
              "      <td>1</td>\n",
              "      <td>12</td>\n",
              "      <td>0</td>\n",
              "      <td>True</td>\n",
              "      <td>True</td>\n",
              "      <td>True</td>\n",
              "      <td>False</td>\n",
              "      <td>2019-09-02 00:00:00</td>\n",
              "    </tr>\n",
              "    <tr>\n",
              "      <th>715</th>\n",
              "      <td>422</td>\n",
              "      <td>W 59 St &amp; 10 Ave</td>\n",
              "      <td>7023.04</td>\n",
              "      <td>40.770513</td>\n",
              "      <td>-73.988038</td>\n",
              "      <td>71</td>\n",
              "      <td>KEY,CREDITCARD</td>\n",
              "      <td>79</td>\n",
              "      <td>False</td>\n",
              "      <td>26</td>\n",
              "      <td>2</td>\n",
              "      <td>51</td>\n",
              "      <td>0</td>\n",
              "      <td>True</td>\n",
              "      <td>True</td>\n",
              "      <td>True</td>\n",
              "      <td>False</td>\n",
              "      <td>2019-09-02 00:00:00</td>\n",
              "    </tr>\n",
              "    <tr>\n",
              "      <th>756</th>\n",
              "      <td>501</td>\n",
              "      <td>FDR Drive &amp; E 35 St</td>\n",
              "      <td>6230.04</td>\n",
              "      <td>40.744219</td>\n",
              "      <td>-73.971212</td>\n",
              "      <td>71</td>\n",
              "      <td>KEY,CREDITCARD</td>\n",
              "      <td>79</td>\n",
              "      <td>False</td>\n",
              "      <td>29</td>\n",
              "      <td>2</td>\n",
              "      <td>48</td>\n",
              "      <td>0</td>\n",
              "      <td>True</td>\n",
              "      <td>True</td>\n",
              "      <td>True</td>\n",
              "      <td>False</td>\n",
              "      <td>2019-09-02 00:00:00</td>\n",
              "    </tr>\n",
              "    <tr>\n",
              "      <th>632</th>\n",
              "      <td>482</td>\n",
              "      <td>W 15 St &amp; 7 Ave</td>\n",
              "      <td>6030.06</td>\n",
              "      <td>40.739355</td>\n",
              "      <td>-73.999318</td>\n",
              "      <td>71</td>\n",
              "      <td>KEY,CREDITCARD</td>\n",
              "      <td>77</td>\n",
              "      <td>False</td>\n",
              "      <td>22</td>\n",
              "      <td>1</td>\n",
              "      <td>54</td>\n",
              "      <td>0</td>\n",
              "      <td>True</td>\n",
              "      <td>True</td>\n",
              "      <td>True</td>\n",
              "      <td>False</td>\n",
              "      <td>2019-09-02 00:00:00</td>\n",
              "    </tr>\n",
              "    <tr>\n",
              "      <th>482</th>\n",
              "      <td>470</td>\n",
              "      <td>W 20 St &amp; 8 Ave</td>\n",
              "      <td>6224.05</td>\n",
              "      <td>40.743453</td>\n",
              "      <td>-74.000040</td>\n",
              "      <td>71</td>\n",
              "      <td>KEY,CREDITCARD</td>\n",
              "      <td>72</td>\n",
              "      <td>False</td>\n",
              "      <td>15</td>\n",
              "      <td>1</td>\n",
              "      <td>56</td>\n",
              "      <td>0</td>\n",
              "      <td>True</td>\n",
              "      <td>True</td>\n",
              "      <td>True</td>\n",
              "      <td>False</td>\n",
              "      <td>2019-09-02 00:00:00</td>\n",
              "    </tr>\n",
              "  </tbody>\n",
              "</table>\n",
              "</div>"
            ],
            "text/plain": [
              "     station_id  ...        last_reported\n",
              "842         445  ...  2019-09-02 00:00:00\n",
              "715         422  ...  2019-09-02 00:00:00\n",
              "756         501  ...  2019-09-02 00:00:00\n",
              "632         482  ...  2019-09-02 00:00:00\n",
              "482         470  ...  2019-09-02 00:00:00\n",
              "\n",
              "[5 rows x 18 columns]"
            ]
          },
          "metadata": {
            "tags": []
          },
          "execution_count": 6
        }
      ]
    },
    {
      "cell_type": "code",
      "metadata": {
        "id": "4s6tr0MEXadc",
        "colab_type": "code",
        "colab": {
          "base_uri": "https://localhost:8080/",
          "height": 34
        },
        "outputId": "89bde0a0-4799-4334-e2fd-a58c3c405c0a"
      },
      "source": [
        "data[data.region_id==70].num_bikes_available.count()"
      ],
      "execution_count": 16,
      "outputs": [
        {
          "output_type": "execute_result",
          "data": {
            "text/plain": [
              "51"
            ]
          },
          "metadata": {
            "tags": []
          },
          "execution_count": 16
        }
      ]
    },
    {
      "cell_type": "code",
      "metadata": {
        "id": "-sxFhe5dYKTc",
        "colab_type": "code",
        "colab": {
          "base_uri": "https://localhost:8080/",
          "height": 34
        },
        "outputId": "4193be12-e03d-4920-e4d1-267cffb6f6f4"
      },
      "source": [
        "data[data.region_id==70].num_bikes_available.sum()"
      ],
      "execution_count": 17,
      "outputs": [
        {
          "output_type": "execute_result",
          "data": {
            "text/plain": [
              "394"
            ]
          },
          "metadata": {
            "tags": []
          },
          "execution_count": 17
        }
      ]
    },
    {
      "cell_type": "markdown",
      "metadata": {
        "id": "XoVUUlq1H2lB",
        "colab_type": "text"
      },
      "source": [
        "## Q3 "
      ]
    },
    {
      "cell_type": "code",
      "metadata": {
        "id": "vU1Z6B58KFO3",
        "colab_type": "code",
        "colab": {
          "base_uri": "https://localhost:8080/",
          "height": 187
        },
        "outputId": "0939b645-88ec-4c53-8f2c-1c1250fd316c"
      },
      "source": [
        "import numpy as np\n",
        "def load(fname):\n",
        "  # Load the file using std open\n",
        "  f = open(fname, 'r')\n",
        "  text = f.read().replace('\\n', '')\n",
        "  text = text.split()\n",
        "    \n",
        "  f.close()\n",
        "  return text\n",
        "\n",
        "txt = load('/content/gdrive/My Drive/BigData/shakes.txt')\n",
        "txt[:10]"
      ],
      "execution_count": 17,
      "outputs": [
        {
          "output_type": "execute_result",
          "data": {
            "text/plain": [
              "['***The',\n",
              " 'Project',\n",
              " \"Gutenberg's\",\n",
              " 'Etext',\n",
              " 'of',\n",
              " \"Shakespeare's\",\n",
              " 'First',\n",
              " 'Folio***********************The',\n",
              " 'Tragedie',\n",
              " 'of']"
            ]
          },
          "metadata": {
            "tags": []
          },
          "execution_count": 17
        }
      ]
    },
    {
      "cell_type": "code",
      "metadata": {
        "id": "Os4dCOMILd-M",
        "colab_type": "code",
        "colab": {
          "base_uri": "https://localhost:8080/",
          "height": 34
        },
        "outputId": "8d1a47b2-3829-4314-823a-ae234e215777"
      },
      "source": [
        "from collections import Counter\n",
        "Counter(txt).most_common(5)"
      ],
      "execution_count": 19,
      "outputs": [
        {
          "output_type": "execute_result",
          "data": {
            "text/plain": [
              "[('the', 604), ('and', 409), ('of', 389), ('to', 359), ('I', 263)]"
            ]
          },
          "metadata": {
            "tags": []
          },
          "execution_count": 19
        }
      ]
    },
    {
      "cell_type": "code",
      "metadata": {
        "id": "RH5RzeVaOeYi",
        "colab_type": "code",
        "colab": {}
      },
      "source": [
        "import nltk\n"
      ],
      "execution_count": 0,
      "outputs": []
    }
  ]
}