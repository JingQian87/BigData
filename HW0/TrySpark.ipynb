{
  "nbformat": 4,
  "nbformat_minor": 0,
  "metadata": {
    "colab": {
      "name": "TrySpark.ipynb",
      "provenance": [],
      "collapsed_sections": []
    },
    "kernelspec": {
      "name": "python3",
      "display_name": "Python 3"
    }
  },
  "cells": [
    {
      "cell_type": "markdown",
      "metadata": {
        "id": "NVF8cQWMnOky",
        "colab_type": "text"
      },
      "source": [
        "# Practice Spark"
      ]
    },
    {
      "cell_type": "markdown",
      "metadata": {
        "id": "OXLV0J90k0BO",
        "colab_type": "text"
      },
      "source": [
        "## 1. Install spark"
      ]
    },
    {
      "cell_type": "code",
      "metadata": {
        "id": "gm_Xu9P-nGzj",
        "colab_type": "code",
        "colab": {}
      },
      "source": [
        "# Install latest version of spark. If error, check the latest and replace \"spark-2.4.4\"\n",
        "!apt-get install openjdk-8-jdk-headless -qq > /dev/null\n",
        "!wget -q https://www-us.apache.org/dist/spark/spark-2.4.4/spark-2.4.4-bin-hadoop2.7.tgz\n",
        "!tar xf spark-2.4.4-bin-hadoop2.7.tgz\n",
        "!pip install -q findspark\n",
        "import os\n",
        "os.environ[\"JAVA_HOME\"] = \"/usr/lib/jvm/java-8-openjdk-amd64\"\n",
        "os.environ[\"SPARK_HOME\"] = \"/content/spark-2.4.4-bin-hadoop2.7\"\n",
        "import findspark\n",
        "findspark.init()"
      ],
      "execution_count": 0,
      "outputs": []
    },
    {
      "cell_type": "markdown",
      "metadata": {
        "id": "h0wFkEehk4CN",
        "colab_type": "text"
      },
      "source": [
        "## 2. Initiate SparkSession for Spark SQL"
      ]
    },
    {
      "cell_type": "code",
      "metadata": {
        "id": "-rkGXuuGnMoT",
        "colab_type": "code",
        "colab": {}
      },
      "source": [
        "#The entry point to using Spark SQL is an object called SparkSession. \n",
        "#It initiates a Spark Application which all the code for that Session will run on.\n",
        "from pyspark.sql import SparkSession\n",
        "spark = SparkSession.builder \\\n",
        "    .master(\"local[*]\") \\\n",
        "    .appName(\"Learning_Spark\") \\\n",
        "    .getOrCreate()"
      ],
      "execution_count": 0,
      "outputs": []
    },
    {
      "cell_type": "code",
      "metadata": {
        "id": "93XHJtjwoYQ_",
        "colab_type": "code",
        "colab": {
          "base_uri": "https://localhost:8080/",
          "height": 122
        },
        "outputId": "cc6c7a0c-63b4-4f35-9a46-ec9293359144"
      },
      "source": [
        "import numpy as np\n",
        "\n",
        "from google.colab import drive\n",
        "drive.mount('/content/gdrive')"
      ],
      "execution_count": 3,
      "outputs": [
        {
          "output_type": "stream",
          "text": [
            "Go to this URL in a browser: https://accounts.google.com/o/oauth2/auth?client_id=947318989803-6bn6qk8qdgf4n4g3pfee6491hc0brc4i.apps.googleusercontent.com&redirect_uri=urn%3Aietf%3Awg%3Aoauth%3A2.0%3Aoob&scope=email%20https%3A%2F%2Fwww.googleapis.com%2Fauth%2Fdocs.test%20https%3A%2F%2Fwww.googleapis.com%2Fauth%2Fdrive%20https%3A%2F%2Fwww.googleapis.com%2Fauth%2Fdrive.photos.readonly%20https%3A%2F%2Fwww.googleapis.com%2Fauth%2Fpeopleapi.readonly&response_type=code\n",
            "\n",
            "Enter your authorization code:\n",
            "··········\n",
            "Mounted at /content/gdrive\n"
          ],
          "name": "stdout"
        }
      ]
    },
    {
      "cell_type": "code",
      "metadata": {
        "id": "zdVKf4VFlYg1",
        "colab_type": "code",
        "colab": {}
      },
      "source": [
        "data = spark.read.csv('/content/gdrive/My Drive/BigData/data_citibike_stations.csv',inferSchema=True, header=True)"
      ],
      "execution_count": 0,
      "outputs": []
    },
    {
      "cell_type": "code",
      "metadata": {
        "id": "eshZhDAKlkZv",
        "colab_type": "code",
        "colab": {
          "base_uri": "https://localhost:8080/",
          "height": 34
        },
        "outputId": "4c4da393-d2da-49e7-86f2-b67d5a1ac5b9"
      },
      "source": [
        "#.count() returns the number of rows, .columns return a list of column names\n",
        "data.count(), len(data.columns)"
      ],
      "execution_count": 7,
      "outputs": [
        {
          "output_type": "execute_result",
          "data": {
            "text/plain": [
              "(843, 18)"
            ]
          },
          "metadata": {
            "tags": []
          },
          "execution_count": 7
        }
      ]
    },
    {
      "cell_type": "code",
      "metadata": {
        "id": "bGia0gqRlkMv",
        "colab_type": "code",
        "colab": {
          "base_uri": "https://localhost:8080/",
          "height": 323
        },
        "outputId": "30246884-4e1d-401c-9865-2f8f56312156"
      },
      "source": [
        "data.columns"
      ],
      "execution_count": 8,
      "outputs": [
        {
          "output_type": "execute_result",
          "data": {
            "text/plain": [
              "['station_id',\n",
              " 'name',\n",
              " 'short_name',\n",
              " 'latitude',\n",
              " 'longitude',\n",
              " 'region_id',\n",
              " 'rental_methods',\n",
              " 'capacity',\n",
              " 'eightd_has_key_dispenser',\n",
              " 'num_bikes_available',\n",
              " 'num_bikes_disabled',\n",
              " 'num_docks_available',\n",
              " 'num_docks_disabled',\n",
              " 'is_installed',\n",
              " 'is_renting',\n",
              " 'is_returning',\n",
              " 'eightd_has_available_keys',\n",
              " 'last_reported']"
            ]
          },
          "metadata": {
            "tags": []
          },
          "execution_count": 8
        }
      ]
    },
    {
      "cell_type": "code",
      "metadata": {
        "id": "Q2oiUl4kmshv",
        "colab_type": "code",
        "colab": {
          "base_uri": "https://localhost:8080/",
          "height": 241
        },
        "outputId": "37f218ea-39c8-43bc-d0d7-a1e7d081fcbd"
      },
      "source": [
        "data.show(6)"
      ],
      "execution_count": 9,
      "outputs": [
        {
          "output_type": "stream",
          "text": [
            "+----------+--------------------+----------+------------------+------------------+---------+--------------+--------+------------------------+-------------------+------------------+-------------------+------------------+------------+----------+------------+-------------------------+-------------------+\n",
            "|station_id|                name|short_name|          latitude|         longitude|region_id|rental_methods|capacity|eightd_has_key_dispenser|num_bikes_available|num_bikes_disabled|num_docks_available|num_docks_disabled|is_installed|is_renting|is_returning|eightd_has_available_keys|      last_reported|\n",
            "+----------+--------------------+----------+------------------+------------------+---------+--------------+--------+------------------------+-------------------+------------------+-------------------+------------------+------------+----------+------------+-------------------------+-------------------+\n",
            "|       382|University Pl & E...|   5905.11|       40.73492695|      -73.99200509|       71|KEY,CREDITCARD|       0|                   false|                  0|                 0|                  0|                 0|       false|     false|       false|                    false|1970-01-01 00:00:00|\n",
            "|      3338|     2 Ave & E 99 St|   7386.10|        40.7862586|      -73.94552579|       71|KEY,CREDITCARD|       0|                   false|                  0|                 0|                  0|                 0|        true|      true|        true|                    false|1970-01-01 00:00:00|\n",
            "|      3512|       27 Ave & 4 St|   7132.01|        40.7747175|       -73.9337894|       71|KEY,CREDITCARD|       0|                   false|                  0|                 0|                  0|                 0|       false|     false|       false|                    false|1970-01-01 00:00:00|\n",
            "|      3709|     W 15 St & 6 Ave|   5989.02|40.738046142482766|-73.99642959237099|       71|KEY,CREDITCARD|       0|                   false|                  0|                 0|                  0|                 0|       false|     false|       false|                    false|1970-01-01 00:00:00|\n",
            "|      3584|Eastern Pkwy & Fr...|   3919.07|        40.6707767|       -73.9576801|       71|KEY,CREDITCARD|       1|                   false|                  0|                 0|                  1|                 0|       false|     false|       false|                    false|2019-09-01 00:00:00|\n",
            "|      3144|  E 81 St & Park Ave|   7188.10|       40.77677702|       -73.9590097|       71|KEY,CREDITCARD|       2|                   false|                  0|                 0|                  2|                 0|       false|     false|       false|                    false|2019-06-24 00:00:00|\n",
            "+----------+--------------------+----------+------------------+------------------+---------+--------------+--------+------------------------+-------------------+------------------+-------------------+------------------+------------+----------+------------+-------------------------+-------------------+\n",
            "only showing top 6 rows\n",
            "\n"
          ],
          "name": "stdout"
        }
      ]
    },
    {
      "cell_type": "code",
      "metadata": {
        "id": "OnMYZJBSmwuQ",
        "colab_type": "code",
        "colab": {
          "base_uri": "https://localhost:8080/",
          "height": 357
        },
        "outputId": "f6722561-b72e-4926-f348-85e17684eb27"
      },
      "source": [
        "data.printSchema()"
      ],
      "execution_count": 10,
      "outputs": [
        {
          "output_type": "stream",
          "text": [
            "root\n",
            " |-- station_id: integer (nullable = true)\n",
            " |-- name: string (nullable = true)\n",
            " |-- short_name: string (nullable = true)\n",
            " |-- latitude: double (nullable = true)\n",
            " |-- longitude: double (nullable = true)\n",
            " |-- region_id: integer (nullable = true)\n",
            " |-- rental_methods: string (nullable = true)\n",
            " |-- capacity: integer (nullable = true)\n",
            " |-- eightd_has_key_dispenser: boolean (nullable = true)\n",
            " |-- num_bikes_available: integer (nullable = true)\n",
            " |-- num_bikes_disabled: integer (nullable = true)\n",
            " |-- num_docks_available: integer (nullable = true)\n",
            " |-- num_docks_disabled: integer (nullable = true)\n",
            " |-- is_installed: boolean (nullable = true)\n",
            " |-- is_renting: boolean (nullable = true)\n",
            " |-- is_returning: boolean (nullable = true)\n",
            " |-- eightd_has_available_keys: boolean (nullable = true)\n",
            " |-- last_reported: timestamp (nullable = true)\n",
            "\n"
          ],
          "name": "stdout"
        }
      ]
    },
    {
      "cell_type": "code",
      "metadata": {
        "id": "fcNpz4xSne8V",
        "colab_type": "code",
        "colab": {
          "base_uri": "https://localhost:8080/",
          "height": 187
        },
        "outputId": "a4d923d3-5ab0-4743-9cdf-b982f28cb42f"
      },
      "source": [
        "data.select(\"station_id\",\"name\",\"num_bikes_available\").show(4)"
      ],
      "execution_count": 11,
      "outputs": [
        {
          "output_type": "stream",
          "text": [
            "+----------+--------------------+-------------------+\n",
            "|station_id|                name|num_bikes_available|\n",
            "+----------+--------------------+-------------------+\n",
            "|       382|University Pl & E...|                  0|\n",
            "|      3338|     2 Ave & E 99 St|                  0|\n",
            "|      3512|       27 Ave & 4 St|                  0|\n",
            "|      3709|     W 15 St & 6 Ave|                  0|\n",
            "+----------+--------------------+-------------------+\n",
            "only showing top 4 rows\n",
            "\n"
          ],
          "name": "stdout"
        }
      ]
    },
    {
      "cell_type": "code",
      "metadata": {
        "id": "37hl3a-FnqMJ",
        "colab_type": "code",
        "colab": {
          "base_uri": "https://localhost:8080/",
          "height": 187
        },
        "outputId": "e0951743-2af4-4560-aacc-829164fe04d7"
      },
      "source": [
        "data.select(\"station_id\",\"name\",\"num_bikes_available\").show(4,truncate=False)"
      ],
      "execution_count": 12,
      "outputs": [
        {
          "output_type": "stream",
          "text": [
            "+----------+-----------------------+-------------------+\n",
            "|station_id|name                   |num_bikes_available|\n",
            "+----------+-----------------------+-------------------+\n",
            "|382       |University Pl & E 14 St|0                  |\n",
            "|3338      |2 Ave & E 99 St        |0                  |\n",
            "|3512      |27 Ave & 4 St          |0                  |\n",
            "|3709      |W 15 St & 6 Ave        |0                  |\n",
            "+----------+-----------------------+-------------------+\n",
            "only showing top 4 rows\n",
            "\n"
          ],
          "name": "stdout"
        }
      ]
    },
    {
      "cell_type": "code",
      "metadata": {
        "id": "viqrcwyjn86v",
        "colab_type": "code",
        "colab": {
          "base_uri": "https://localhost:8080/",
          "height": 187
        },
        "outputId": "820ddffe-5a83-4cdf-c0ab-b7e3bd2e879b"
      },
      "source": [
        "data.describe([\"num_bikes_available\",\"num_bikes_disabled\"]).show()"
      ],
      "execution_count": 13,
      "outputs": [
        {
          "output_type": "stream",
          "text": [
            "+-------+-------------------+------------------+\n",
            "|summary|num_bikes_available|num_bikes_disabled|\n",
            "+-------+-------------------+------------------+\n",
            "|  count|                843|               843|\n",
            "|   mean| 14.565836298932384|0.5693950177935944|\n",
            "| stddev| 11.188256063195926|0.8613434732614029|\n",
            "|    min|                  0|                 0|\n",
            "|    max|                 66|                 6|\n",
            "+-------+-------------------+------------------+\n",
            "\n"
          ],
          "name": "stdout"
        }
      ]
    },
    {
      "cell_type": "code",
      "metadata": {
        "id": "ZdbxJF7ppZk2",
        "colab_type": "code",
        "colab": {
          "base_uri": "https://localhost:8080/",
          "height": 136
        },
        "outputId": "83ca0943-0ccb-49d7-b10d-7aaa61273ca8"
      },
      "source": [
        "data.groupby(\"region_id\").count().orderBy(\"count\",ascending=False).show(5)"
      ],
      "execution_count": 21,
      "outputs": [
        {
          "output_type": "stream",
          "text": [
            "+---------+-----+\n",
            "|region_id|count|\n",
            "+---------+-----+\n",
            "|       71|  792|\n",
            "|       70|   51|\n",
            "+---------+-----+\n",
            "\n"
          ],
          "name": "stdout"
        }
      ]
    },
    {
      "cell_type": "code",
      "metadata": {
        "id": "9NVlLtN9qkxb",
        "colab_type": "code",
        "colab": {
          "base_uri": "https://localhost:8080/",
          "height": 187
        },
        "outputId": "555c67a1-329f-4e43-aadc-494e9df9a9d6"
      },
      "source": [
        "condition1 = data.region_id == 70\n",
        "condition2 = (data.region_id.isNotNull())|(data.station_id.isNotNull())\n",
        "data = data.filter(condition1).filter(condition2)\n",
        "data.describe([\"num_bikes_available\",\"num_bikes_disabled\"]).show()"
      ],
      "execution_count": 23,
      "outputs": [
        {
          "output_type": "stream",
          "text": [
            "+-------+-------------------+------------------+\n",
            "|summary|num_bikes_available|num_bikes_disabled|\n",
            "+-------+-------------------+------------------+\n",
            "|  count|                 51|                51|\n",
            "|   mean| 7.7254901960784315|0.5294117647058824|\n",
            "| stddev|  4.647917518082906| 0.879839557566505|\n",
            "|    min|                  0|                 0|\n",
            "|    max|                 21|                 4|\n",
            "+-------+-------------------+------------------+\n",
            "\n"
          ],
          "name": "stdout"
        }
      ]
    },
    {
      "cell_type": "markdown",
      "metadata": {
        "id": "zIw5VNGary_3",
        "colab_type": "text"
      },
      "source": [
        "## 3. PySpark for Word Counting"
      ]
    },
    {
      "cell_type": "code",
      "metadata": {
        "id": "yXqb5SQur27-",
        "colab_type": "code",
        "colab": {}
      },
      "source": [
        ""
      ],
      "execution_count": 0,
      "outputs": []
    }
  ]
}