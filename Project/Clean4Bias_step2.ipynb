{
 "cells": [
  {
   "cell_type": "code",
   "execution_count": 21,
   "metadata": {},
   "outputs": [
    {
     "data": {
      "text/html": [
       "<div>\n",
       "<style scoped>\n",
       "    .dataframe tbody tr th:only-of-type {\n",
       "        vertical-align: middle;\n",
       "    }\n",
       "\n",
       "    .dataframe tbody tr th {\n",
       "        vertical-align: top;\n",
       "    }\n",
       "\n",
       "    .dataframe thead th {\n",
       "        text-align: right;\n",
       "    }\n",
       "</style>\n",
       "<table border=\"1\" class=\"dataframe\">\n",
       "  <thead>\n",
       "    <tr style=\"text-align: right;\">\n",
       "      <th></th>\n",
       "      <th>Hospital Service Area</th>\n",
       "      <th>Hospital County</th>\n",
       "      <th>Operating Certificate Number</th>\n",
       "      <th>Permanent Facility Id</th>\n",
       "      <th>Facility Name</th>\n",
       "      <th>Age Group</th>\n",
       "      <th>Zip Code - 3 digits</th>\n",
       "      <th>Gender</th>\n",
       "      <th>Race</th>\n",
       "      <th>Ethnicity</th>\n",
       "      <th>...</th>\n",
       "      <th>APR Risk of Mortality</th>\n",
       "      <th>APR Medical Surgical Description</th>\n",
       "      <th>Payment Typology 1</th>\n",
       "      <th>Payment Typology 2</th>\n",
       "      <th>Payment Typology 3</th>\n",
       "      <th>Birth Weight</th>\n",
       "      <th>Abortion Edit Indicator</th>\n",
       "      <th>Emergency Department Indicator</th>\n",
       "      <th>Total Charges</th>\n",
       "      <th>Total Costs</th>\n",
       "    </tr>\n",
       "  </thead>\n",
       "  <tbody>\n",
       "    <tr>\n",
       "      <td>0</td>\n",
       "      <td>Hudson Valley</td>\n",
       "      <td>Westchester</td>\n",
       "      <td>5903001.0</td>\n",
       "      <td>1061.0</td>\n",
       "      <td>Montefiore Mount Vernon Hospital</td>\n",
       "      <td>30 to 49</td>\n",
       "      <td>NaN</td>\n",
       "      <td>M</td>\n",
       "      <td>White</td>\n",
       "      <td>Not Span/Hispanic</td>\n",
       "      <td>...</td>\n",
       "      <td>Minor</td>\n",
       "      <td>Medical</td>\n",
       "      <td>Medicare</td>\n",
       "      <td>Medicare</td>\n",
       "      <td>Self-Pay</td>\n",
       "      <td>NaN</td>\n",
       "      <td>N</td>\n",
       "      <td>N</td>\n",
       "      <td>114168.00</td>\n",
       "      <td>40464.04</td>\n",
       "    </tr>\n",
       "    <tr>\n",
       "      <td>1</td>\n",
       "      <td>Hudson Valley</td>\n",
       "      <td>Westchester</td>\n",
       "      <td>5903001.0</td>\n",
       "      <td>1061.0</td>\n",
       "      <td>Montefiore Mount Vernon Hospital</td>\n",
       "      <td>50 to 69</td>\n",
       "      <td>105</td>\n",
       "      <td>M</td>\n",
       "      <td>White</td>\n",
       "      <td>Spanish/Hispanic</td>\n",
       "      <td>...</td>\n",
       "      <td>Moderate</td>\n",
       "      <td>Medical</td>\n",
       "      <td>Medicaid</td>\n",
       "      <td>Medicaid</td>\n",
       "      <td>Self-Pay</td>\n",
       "      <td>NaN</td>\n",
       "      <td>N</td>\n",
       "      <td>N</td>\n",
       "      <td>58517.00</td>\n",
       "      <td>26046.50</td>\n",
       "    </tr>\n",
       "    <tr>\n",
       "      <td>2</td>\n",
       "      <td>Hudson Valley</td>\n",
       "      <td>Westchester</td>\n",
       "      <td>5903001.0</td>\n",
       "      <td>1061.0</td>\n",
       "      <td>Montefiore Mount Vernon Hospital</td>\n",
       "      <td>30 to 49</td>\n",
       "      <td>105</td>\n",
       "      <td>F</td>\n",
       "      <td>White</td>\n",
       "      <td>Unknown</td>\n",
       "      <td>...</td>\n",
       "      <td>Moderate</td>\n",
       "      <td>Medical</td>\n",
       "      <td>Department of Corrections</td>\n",
       "      <td>Self-Pay</td>\n",
       "      <td>NaN</td>\n",
       "      <td>NaN</td>\n",
       "      <td>N</td>\n",
       "      <td>N</td>\n",
       "      <td>39647.04</td>\n",
       "      <td>17397.59</td>\n",
       "    </tr>\n",
       "    <tr>\n",
       "      <td>3</td>\n",
       "      <td>Hudson Valley</td>\n",
       "      <td>Westchester</td>\n",
       "      <td>5903001.0</td>\n",
       "      <td>1061.0</td>\n",
       "      <td>Montefiore Mount Vernon Hospital</td>\n",
       "      <td>50 to 69</td>\n",
       "      <td>105</td>\n",
       "      <td>F</td>\n",
       "      <td>White</td>\n",
       "      <td>Not Span/Hispanic</td>\n",
       "      <td>...</td>\n",
       "      <td>Moderate</td>\n",
       "      <td>Medical</td>\n",
       "      <td>Medicaid</td>\n",
       "      <td>Medicaid</td>\n",
       "      <td>Self-Pay</td>\n",
       "      <td>NaN</td>\n",
       "      <td>N</td>\n",
       "      <td>N</td>\n",
       "      <td>36031.09</td>\n",
       "      <td>16118.84</td>\n",
       "    </tr>\n",
       "    <tr>\n",
       "      <td>4</td>\n",
       "      <td>Hudson Valley</td>\n",
       "      <td>Westchester</td>\n",
       "      <td>5903001.0</td>\n",
       "      <td>1061.0</td>\n",
       "      <td>Montefiore Mount Vernon Hospital</td>\n",
       "      <td>18 to 29</td>\n",
       "      <td>105</td>\n",
       "      <td>F</td>\n",
       "      <td>White</td>\n",
       "      <td>Spanish/Hispanic</td>\n",
       "      <td>...</td>\n",
       "      <td>Minor</td>\n",
       "      <td>Medical</td>\n",
       "      <td>Department of Corrections</td>\n",
       "      <td>Self-Pay</td>\n",
       "      <td>NaN</td>\n",
       "      <td>NaN</td>\n",
       "      <td>N</td>\n",
       "      <td>N</td>\n",
       "      <td>30534.00</td>\n",
       "      <td>11921.05</td>\n",
       "    </tr>\n",
       "  </tbody>\n",
       "</table>\n",
       "<p>5 rows × 34 columns</p>\n",
       "</div>"
      ],
      "text/plain": [
       "  Hospital Service Area Hospital County  Operating Certificate Number  \\\n",
       "0         Hudson Valley     Westchester                     5903001.0   \n",
       "1         Hudson Valley     Westchester                     5903001.0   \n",
       "2         Hudson Valley     Westchester                     5903001.0   \n",
       "3         Hudson Valley     Westchester                     5903001.0   \n",
       "4         Hudson Valley     Westchester                     5903001.0   \n",
       "\n",
       "   Permanent Facility Id                     Facility Name Age Group  \\\n",
       "0                 1061.0  Montefiore Mount Vernon Hospital  30 to 49   \n",
       "1                 1061.0  Montefiore Mount Vernon Hospital  50 to 69   \n",
       "2                 1061.0  Montefiore Mount Vernon Hospital  30 to 49   \n",
       "3                 1061.0  Montefiore Mount Vernon Hospital  50 to 69   \n",
       "4                 1061.0  Montefiore Mount Vernon Hospital  18 to 29   \n",
       "\n",
       "  Zip Code - 3 digits Gender   Race          Ethnicity  ...  \\\n",
       "0                 NaN      M  White  Not Span/Hispanic  ...   \n",
       "1                 105      M  White   Spanish/Hispanic  ...   \n",
       "2                 105      F  White            Unknown  ...   \n",
       "3                 105      F  White  Not Span/Hispanic  ...   \n",
       "4                 105      F  White   Spanish/Hispanic  ...   \n",
       "\n",
       "  APR Risk of Mortality APR Medical Surgical Description  \\\n",
       "0                 Minor                          Medical   \n",
       "1              Moderate                          Medical   \n",
       "2              Moderate                          Medical   \n",
       "3              Moderate                          Medical   \n",
       "4                 Minor                          Medical   \n",
       "\n",
       "          Payment Typology 1  Payment Typology 2  Payment Typology 3  \\\n",
       "0                   Medicare            Medicare            Self-Pay   \n",
       "1                   Medicaid            Medicaid            Self-Pay   \n",
       "2  Department of Corrections            Self-Pay                 NaN   \n",
       "3                   Medicaid            Medicaid            Self-Pay   \n",
       "4  Department of Corrections            Self-Pay                 NaN   \n",
       "\n",
       "  Birth Weight  Abortion Edit Indicator Emergency Department Indicator  \\\n",
       "0          NaN                        N                              N   \n",
       "1          NaN                        N                              N   \n",
       "2          NaN                        N                              N   \n",
       "3          NaN                        N                              N   \n",
       "4          NaN                        N                              N   \n",
       "\n",
       "   Total Charges Total Costs  \n",
       "0      114168.00    40464.04  \n",
       "1       58517.00    26046.50  \n",
       "2       39647.04    17397.59  \n",
       "3       36031.09    16118.84  \n",
       "4       30534.00    11921.05  \n",
       "\n",
       "[5 rows x 34 columns]"
      ]
     },
     "execution_count": 21,
     "metadata": {},
     "output_type": "execute_result"
    }
   ],
   "source": [
    "import numpy as np\n",
    "import pandas as pd\n",
    "import matplotlib.pyplot as plt\n",
    "%matplotlib inline \n",
    "\n",
    "filename = '/Users/mac/Desktop/BigData_ProjectData/SPARCS-2017.csv'\n",
    "raw_data = pd.read_csv(filename)\n",
    "raw_data.head()"
   ]
  },
  {
   "cell_type": "code",
   "execution_count": 22,
   "metadata": {},
   "outputs": [
    {
     "data": {
      "text/plain": [
       "(2343569, 34)"
      ]
     },
     "execution_count": 22,
     "metadata": {},
     "output_type": "execute_result"
    }
   ],
   "source": [
    "np.shape(raw_data)"
   ]
  },
  {
   "cell_type": "code",
   "execution_count": 23,
   "metadata": {},
   "outputs": [],
   "source": [
    "# Drop a few NA records\n",
    "data = raw_data.dropna(subset = ['Hospital Service Area',\n",
    "                             'APR Risk of Mortality'])"
   ]
  },
  {
   "cell_type": "code",
   "execution_count": 24,
   "metadata": {},
   "outputs": [
    {
     "data": {
      "text/plain": [
       "(2338151, 34)"
      ]
     },
     "execution_count": 24,
     "metadata": {},
     "output_type": "execute_result"
    }
   ],
   "source": [
    "# Drop unkown gender (no distribution on black people)\n",
    "data = data[data[\"Gender\"]!=\"U\"]\n",
    "np.shape(data)"
   ]
  },
  {
   "cell_type": "code",
   "execution_count": 25,
   "metadata": {},
   "outputs": [
    {
     "data": {
      "text/plain": [
       "(2271398, 34)"
      ]
     },
     "execution_count": 25,
     "metadata": {},
     "output_type": "execute_result"
    }
   ],
   "source": [
    "# Drop patients from out of state\n",
    "data = data[data[\"Zip Code - 3 digits\"]!=\"OOS\"]\n",
    "np.shape(data)"
   ]
  },
  {
   "cell_type": "code",
   "execution_count": 26,
   "metadata": {},
   "outputs": [
    {
     "name": "stdout",
     "output_type": "stream",
     "text": [
      "(2271398, 19)\n"
     ]
    }
   ],
   "source": [
    "droplist = [\"Discharge Year\", # only 2017\n",
    "            \"Birth Weight\", # only NA\n",
    "            \"Zip Code - 3 digits\", # patients' code\n",
    "            \"Abortion Edit Indicator\", # after dropping na, only one value, N for no abortion.\n",
    "            \"Operating Certificate Number\", # assigned by NYS Department of Health\n",
    "            \"Permanent Facility Id\", # almost 1-to-1 correspondence to \"Facility Name\",\n",
    "            \"CCS Diagnosis Code\", # 1-to-1 correspondence to \"CCS Diagnosis Description\",\n",
    "            \"CCS Procedure Code\", # 1-to-1 correspondence to \"CCS Procedure Description\",\n",
    "            \"APR MDC Code\", # 1-to-1 correspondence to \"APR MDC Description\",\n",
    "            \"APR Severity of Illness Code\", # 1-to-1 correspondence to \"APR Severity of Illness Description\",\n",
    "            \"APR DRG Code\",# 1-to-1 correspondence to \"APR DRG Description\"\n",
    "            \"Payment Typology 1\", # Don't care payment type in cost bias\n",
    "            \"Payment Typology 2\",\n",
    "            \"Payment Typology 3\",\n",
    "            \"Total Costs\"]# Total estimated cost for the discharge, corr(charge,cost)~0.7\n",
    "data = data.drop(droplist, axis=1)\n",
    "print(np.shape(data))"
   ]
  },
  {
   "cell_type": "code",
   "execution_count": 27,
   "metadata": {},
   "outputs": [
    {
     "data": {
      "text/plain": [
       "Hospital Service Area                        8\n",
       "Hospital County                             57\n",
       "Facility Name                              210\n",
       "Age Group                                    5\n",
       "Gender                                       2\n",
       "Race                                         4\n",
       "Ethnicity                                    4\n",
       "Length of Stay                             120\n",
       "Type of Admission                            6\n",
       "Patient Disposition                         20\n",
       "CCS Diagnosis Description                  259\n",
       "CCS Procedure Description                  222\n",
       "APR DRG Description                        316\n",
       "APR MDC Description                         25\n",
       "APR Severity of Illness Description          4\n",
       "APR Risk of Mortality                        4\n",
       "APR Medical Surgical Description             2\n",
       "Emergency Department Indicator               2\n",
       "Total Charges                          1794282\n",
       "dtype: int64"
      ]
     },
     "execution_count": 27,
     "metadata": {},
     "output_type": "execute_result"
    }
   ],
   "source": [
    "data.nunique()"
   ]
  },
  {
   "cell_type": "code",
   "execution_count": null,
   "metadata": {},
   "outputs": [],
   "source": []
  },
  {
   "cell_type": "code",
   "execution_count": null,
   "metadata": {},
   "outputs": [],
   "source": []
  }
 ],
 "metadata": {
  "kernelspec": {
   "display_name": "Python 3",
   "language": "python",
   "name": "python3"
  },
  "language_info": {
   "codemirror_mode": {
    "name": "ipython",
    "version": 3
   },
   "file_extension": ".py",
   "mimetype": "text/x-python",
   "name": "python",
   "nbconvert_exporter": "python",
   "pygments_lexer": "ipython3",
   "version": "3.6.9"
  }
 },
 "nbformat": 4,
 "nbformat_minor": 2
}
