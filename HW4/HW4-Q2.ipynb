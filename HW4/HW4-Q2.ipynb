{
 "cells": [
  {
   "cell_type": "code",
   "execution_count": 1,
   "metadata": {},
   "outputs": [],
   "source": [
    "import warnings\n",
    "warnings.simplefilter('ignore')"
   ]
  },
  {
   "cell_type": "code",
   "execution_count": 2,
   "metadata": {},
   "outputs": [],
   "source": [
    "import numpy as np\n",
    "import pandas as pd\n",
    "\n",
    "data = pd.read_csv('hw3-wordcount.csv')"
   ]
  },
  {
   "cell_type": "code",
   "execution_count": 3,
   "metadata": {},
   "outputs": [],
   "source": [
    "time = list(set(data.time))\n",
    "df = pd.DataFrame(time, columns=['time'])"
   ]
  },
  {
   "cell_type": "code",
   "execution_count": 4,
   "metadata": {},
   "outputs": [],
   "source": [
    "words = ['ai','data','good','movie','spark']\n",
    "for i in words:\n",
    "    df[i] = 0"
   ]
  },
  {
   "cell_type": "code",
   "execution_count": 5,
   "metadata": {},
   "outputs": [
    {
     "data": {
      "text/html": [
       "<div>\n",
       "<style scoped>\n",
       "    .dataframe tbody tr th:only-of-type {\n",
       "        vertical-align: middle;\n",
       "    }\n",
       "\n",
       "    .dataframe tbody tr th {\n",
       "        vertical-align: top;\n",
       "    }\n",
       "\n",
       "    .dataframe thead th {\n",
       "        text-align: right;\n",
       "    }\n",
       "</style>\n",
       "<table border=\"1\" class=\"dataframe\">\n",
       "  <thead>\n",
       "    <tr style=\"text-align: right;\">\n",
       "      <th></th>\n",
       "      <th>time</th>\n",
       "      <th>ai</th>\n",
       "      <th>data</th>\n",
       "      <th>good</th>\n",
       "      <th>movie</th>\n",
       "      <th>spark</th>\n",
       "    </tr>\n",
       "  </thead>\n",
       "  <tbody>\n",
       "    <tr>\n",
       "      <td>0</td>\n",
       "      <td>2019-10-31 13:28:50 UTC</td>\n",
       "      <td>10</td>\n",
       "      <td>2</td>\n",
       "      <td>10</td>\n",
       "      <td>244</td>\n",
       "      <td>11</td>\n",
       "    </tr>\n",
       "    <tr>\n",
       "      <td>1</td>\n",
       "      <td>2019-10-31 13:29:50 UTC</td>\n",
       "      <td>15</td>\n",
       "      <td>1</td>\n",
       "      <td>4</td>\n",
       "      <td>209</td>\n",
       "      <td>14</td>\n",
       "    </tr>\n",
       "    <tr>\n",
       "      <td>2</td>\n",
       "      <td>2019-10-31 13:27:50 UTC</td>\n",
       "      <td>13</td>\n",
       "      <td>0</td>\n",
       "      <td>4</td>\n",
       "      <td>178</td>\n",
       "      <td>18</td>\n",
       "    </tr>\n",
       "    <tr>\n",
       "      <td>3</td>\n",
       "      <td>2019-10-31 13:30:50 UTC</td>\n",
       "      <td>37</td>\n",
       "      <td>5</td>\n",
       "      <td>9</td>\n",
       "      <td>207</td>\n",
       "      <td>8</td>\n",
       "    </tr>\n",
       "    <tr>\n",
       "      <td>4</td>\n",
       "      <td>2019-10-31 13:25:50 UTC</td>\n",
       "      <td>9</td>\n",
       "      <td>4</td>\n",
       "      <td>3</td>\n",
       "      <td>176</td>\n",
       "      <td>17</td>\n",
       "    </tr>\n",
       "  </tbody>\n",
       "</table>\n",
       "</div>"
      ],
      "text/plain": [
       "                      time  ai  data  good  movie  spark\n",
       "0  2019-10-31 13:28:50 UTC  10     2    10    244     11\n",
       "1  2019-10-31 13:29:50 UTC  15     1     4    209     14\n",
       "2  2019-10-31 13:27:50 UTC  13     0     4    178     18\n",
       "3  2019-10-31 13:30:50 UTC  37     5     9    207      8\n",
       "4  2019-10-31 13:25:50 UTC   9     4     3    176     17"
      ]
     },
     "execution_count": 5,
     "metadata": {},
     "output_type": "execute_result"
    }
   ],
   "source": [
    "for i in range(len(df)):\n",
    "    for j in words:\n",
    "        tmp = data[(data.time==df.time[i])&(data.word==j)]\n",
    "        if not tmp.empty:\n",
    "            df[j][i] = int(tmp['count'])\n",
    "df.head()"
   ]
  },
  {
   "cell_type": "code",
   "execution_count": 24,
   "metadata": {},
   "outputs": [],
   "source": [
    "res = []\n",
    "for i in range(len(df)):\n",
    "    tmp = {}\n",
    "    tmp['Time'] = df.time[i][11:16]\n",
    "    tmp['count'] = {}\n",
    "    for j in words:\n",
    "        tmp['count'][j] = df[j][i]\n",
    "    res.append(tmp)"
   ]
  },
  {
   "cell_type": "code",
   "execution_count": 25,
   "metadata": {},
   "outputs": [
    {
     "data": {
      "text/plain": [
       "[{'Time': '13:28',\n",
       "  'count': {'ai': 10, 'data': 2, 'good': 10, 'movie': 244, 'spark': 11}},\n",
       " {'Time': '13:29',\n",
       "  'count': {'ai': 15, 'data': 1, 'good': 4, 'movie': 209, 'spark': 14}},\n",
       " {'Time': '13:27',\n",
       "  'count': {'ai': 13, 'data': 0, 'good': 4, 'movie': 178, 'spark': 18}},\n",
       " {'Time': '13:30',\n",
       "  'count': {'ai': 37, 'data': 5, 'good': 9, 'movie': 207, 'spark': 8}},\n",
       " {'Time': '13:25',\n",
       "  'count': {'ai': 9, 'data': 4, 'good': 3, 'movie': 176, 'spark': 17}},\n",
       " {'Time': '13:26',\n",
       "  'count': {'ai': 19, 'data': 4, 'good': 8, 'movie': 226, 'spark': 14}}]"
      ]
     },
     "execution_count": 25,
     "metadata": {},
     "output_type": "execute_result"
    }
   ],
   "source": [
    "data"
   ]
  },
  {
   "cell_type": "code",
   "execution_count": null,
   "metadata": {},
   "outputs": [],
   "source": []
  }
 ],
 "metadata": {
  "kernelspec": {
   "display_name": "Python 3",
   "language": "python",
   "name": "python3"
  },
  "language_info": {
   "codemirror_mode": {
    "name": "ipython",
    "version": 3
   },
   "file_extension": ".py",
   "mimetype": "text/x-python",
   "name": "python",
   "nbconvert_exporter": "python",
   "pygments_lexer": "ipython3",
   "version": "3.6.9"
  }
 },
 "nbformat": 4,
 "nbformat_minor": 2
}
