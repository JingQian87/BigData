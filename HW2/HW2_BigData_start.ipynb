{
  "nbformat": 4,
  "nbformat_minor": 0,
  "metadata": {
    "colab": {
      "name": "HW2_BigData_start.ipynb",
      "provenance": [],
      "collapsed_sections": []
    },
    "kernelspec": {
      "name": "python3",
      "display_name": "Python 3"
    }
  },
  "cells": [
    {
      "cell_type": "markdown",
      "metadata": {
        "id": "n5zLQLgROtt-",
        "colab_type": "text"
      },
      "source": [
        "# Install Spark"
      ]
    },
    {
      "cell_type": "code",
      "metadata": {
        "id": "OhoQHbVPOb12",
        "colab_type": "code",
        "colab": {}
      },
      "source": [
        "# Install latest version of spark. If error, check the latest and replace \"spark-2.4.4\"\n",
        "!apt-get install openjdk-8-jdk-headless -qq > /dev/null\n",
        "!wget -q https://www-us.apache.org/dist/spark/spark-2.4.4/spark-2.4.4-bin-hadoop2.7.tgz\n",
        "!tar xf spark-2.4.4-bin-hadoop2.7.tgz\n",
        "!pip install -q findspark\n",
        "import os\n",
        "os.environ[\"JAVA_HOME\"] = \"/usr/lib/jvm/java-8-openjdk-amd64\"\n",
        "os.environ[\"SPARK_HOME\"] = \"/content/spark-2.4.4-bin-hadoop2.7\"\n",
        "import findspark\n",
        "findspark.init()"
      ],
      "execution_count": 0,
      "outputs": []
    },
    {
      "cell_type": "code",
      "metadata": {
        "id": "Xyfiwjy_Oz-S",
        "colab_type": "code",
        "colab": {
          "base_uri": "https://localhost:8080/",
          "height": 122
        },
        "outputId": "3617e283-adad-4043-86c8-21498dea1728"
      },
      "source": [
        "import numpy as np\n",
        "import pandas as pd\n",
        "\n",
        "from google.colab import drive\n",
        "drive.mount('/content/gdrive')"
      ],
      "execution_count": 2,
      "outputs": [
        {
          "output_type": "stream",
          "text": [
            "Go to this URL in a browser: https://accounts.google.com/o/oauth2/auth?client_id=947318989803-6bn6qk8qdgf4n4g3pfee6491hc0brc4i.apps.googleusercontent.com&redirect_uri=urn%3Aietf%3Awg%3Aoauth%3A2.0%3Aoob&scope=email%20https%3A%2F%2Fwww.googleapis.com%2Fauth%2Fdocs.test%20https%3A%2F%2Fwww.googleapis.com%2Fauth%2Fdrive%20https%3A%2F%2Fwww.googleapis.com%2Fauth%2Fdrive.photos.readonly%20https%3A%2F%2Fwww.googleapis.com%2Fauth%2Fpeopleapi.readonly&response_type=code\n",
            "\n",
            "Enter your authorization code:\n",
            "··········\n",
            "Mounted at /content/gdrive\n"
          ],
          "name": "stdout"
        }
      ]
    },
    {
      "cell_type": "code",
      "metadata": {
        "id": "M8N4zfwnO-kW",
        "colab_type": "code",
        "colab": {}
      },
      "source": [
        ""
      ],
      "execution_count": 0,
      "outputs": []
    },
    {
      "cell_type": "markdown",
      "metadata": {
        "id": "jYJ6JeIPPNBL",
        "colab_type": "text"
      },
      "source": [
        "# Part 1. Friendship Recommendation\n",
        "Modify friends.py provided"
      ]
    },
    {
      "cell_type": "code",
      "metadata": {
        "id": "jrAPrb3fP2cC",
        "colab_type": "code",
        "colab": {}
      },
      "source": [
        "from pyspark import SparkConf, SparkContext\n",
        "import pyspark\n",
        "import sys\n",
        "from collections import defaultdict"
      ],
      "execution_count": 0,
      "outputs": []
    },
    {
      "cell_type": "code",
      "metadata": {
        "id": "6O7rO2MhPwJl",
        "colab_type": "code",
        "colab": {}
      },
      "source": [
        "# Finished. Return RDD\n",
        "def getData(sc, filename):\n",
        "    \"\"\"\n",
        "    Load data from raw text file into RDD and transform.\n",
        "    Hint: transfromation you will use: map(<lambda function>).\n",
        "    Args:\n",
        "        sc (SparkContext): spark context.\n",
        "        filename (string): hw2.txt cloud storage URI.\n",
        "    Returns:\n",
        "        RDD: RDD list of tuple of (<User>, [friend1, friend2, ... ]),\n",
        "        each user and a list of user's friends\n",
        "    \"\"\"\n",
        "    # read text file into RDD\n",
        "    data = sc.textFile(filename)\n",
        "\n",
        "    # TODO: implement your logic here\n",
        "    data = data.map(lambda line: np.array([str(x) for x in line.split('\\t')]))\n",
        "    data = data.map(lambda p:(p[0], p[1].split(',')))\n",
        "\n",
        "    return data"
      ],
      "execution_count": 0,
      "outputs": []
    },
    {
      "cell_type": "code",
      "metadata": {
        "id": "8_EyfieJP6oF",
        "colab_type": "code",
        "colab": {}
      },
      "source": [
        "def mapFriends(line):\n",
        "    \"\"\"\n",
        "    List out every pair of mutual friends, also record direct friends.\n",
        "    Hint:\n",
        "    For each <User>, record direct friends into a list:\n",
        "    [(<User>, (friend1, 0)),(<User>, (friend2, 0)), ...],\n",
        "    where 0 means <User> and friend are already direct friend,\n",
        "    so you don't need to recommand each other.\n",
        "\n",
        "    For friends in the list, each of them has a friend <User> in common,\n",
        "    so for each of them, record mutual friend in both direction:\n",
        "    (friend1, (friend2, 1)), (friend2, (friend1, 1)),\n",
        "    where 1 means friend1 and friend2 has a mutual friend <User> in this \"line\"\n",
        "\n",
        "    There are possibly multiple output in each input line,\n",
        "    we applied flatMap to flatten them when using this function.\n",
        "    Args:\n",
        "        line (tuple): tuple in data RDD\n",
        "    Yields:\n",
        "        RDD: rdd like a list of (A, (B, 0)) or (A, (C, 1))\n",
        "    \"\"\"\n",
        "    friends = line[1]\n",
        "    for i in range(len(friends)):\n",
        "        # Direct friend\n",
        "        # TODO: implement your logic here\n",
        "\n",
        "\n",
        "        for j in range(i+1, len(friends)):\n",
        "            # Mutual friend in both direction\n",
        "            # TODO: implement your logic here\n"
      ],
      "execution_count": 0,
      "outputs": []
    },
    {
      "cell_type": "code",
      "metadata": {
        "id": "TQtBdsRwP9xu",
        "colab_type": "code",
        "colab": {}
      },
      "source": [
        "def findMutual(line):\n",
        "    \"\"\"\n",
        "    Find top 10 mutual friend for each person.\n",
        "    Hint: For each <User>, input is a list of tuples of friend relations,\n",
        "    whether direct friend (count = 0) or has friend in common (count = 1)\n",
        "\n",
        "    Use friendDict to store the number of mutual friend that the current <User>\n",
        "    has in common with each other <User> in tuple.\n",
        "    Input:(User1, [(User2, 1), (User3, 1), (User2, 1), (User3, 0), (User2, 1)])\n",
        "    friendDict stores: {User2:3, User3:1}\n",
        "    directFriend stores: User3\n",
        "\n",
        "    If a user has many mutual frineds and is not a direct frined, we recommend\n",
        "    them to be friends.\n",
        "\n",
        "    Args:\n",
        "        line (tuple): a tuple of (<User1>, [(<User2>, 0), (<User3>, 1)....])\n",
        "    Returns:\n",
        "        RDD of tuple (line[0], returnList),\n",
        "        returnList is a list of recommended friends\n",
        "    \"\"\"\n",
        "    # friendDict, Key: user, value: count of mutual friends\n",
        "    friendDict = defaultdict(int)\n",
        "    # set of direct friends\n",
        "    directFriend = set()\n",
        "    # initialize return list\n",
        "    returnList = []\n",
        "\n",
        "    # TODO: Iterate through input to aggregate counts\n",
        "    # save to friendDict and directFriend\n",
        "\n",
        "\n",
        "    # TODO: Formulate output\n",
        "\n",
        "\n",
        "    return (line[0], returnList)"
      ],
      "execution_count": 0,
      "outputs": []
    },
    {
      "cell_type": "code",
      "metadata": {
        "id": "lun4wsNJR9cG",
        "colab_type": "code",
        "colab": {}
      },
      "source": [
        "#def main():\n",
        "# Configure Spark\n",
        "conf = SparkConf()\n",
        "sc = SparkContext.getOrCreate(conf=conf)\n",
        "# The directory for the file\n",
        "filename = \"/content/gdrive/My Drive/BigData/q1.txt\""
      ],
      "execution_count": 0,
      "outputs": []
    },
    {
      "cell_type": "code",
      "metadata": {
        "id": "Tfk8ZBupTqRO",
        "colab_type": "code",
        "colab": {}
      },
      "source": [
        "# Get data in proper format\n",
        "data = getData(sc, filename)"
      ],
      "execution_count": 0,
      "outputs": []
    },
    {
      "cell_type": "code",
      "metadata": {
        "id": "72xqlRdmTqNZ",
        "colab_type": "code",
        "colab": {
          "base_uri": "https://localhost:8080/",
          "height": 34
        },
        "outputId": "2d4deb19-cb17-41bf-b025-f7710525dcbd"
      },
      "source": [
        "np.shape(data[5][1])"
      ],
      "execution_count": 16,
      "outputs": [
        {
          "output_type": "execute_result",
          "data": {
            "text/plain": [
              "(15,)"
            ]
          },
          "metadata": {
            "tags": []
          },
          "execution_count": 16
        }
      ]
    },
    {
      "cell_type": "code",
      "metadata": {
        "id": "vITB5ojLTqJp",
        "colab_type": "code",
        "colab": {
          "base_uri": "https://localhost:8080/",
          "height": 34
        },
        "outputId": "bb7b425d-367a-42f5-d052-9b5f4d471e63"
      },
      "source": [
        "type(data)"
      ],
      "execution_count": 17,
      "outputs": [
        {
          "output_type": "execute_result",
          "data": {
            "text/plain": [
              "list"
            ]
          },
          "metadata": {
            "tags": []
          },
          "execution_count": 17
        }
      ]
    },
    {
      "cell_type": "code",
      "metadata": {
        "id": "oDgIDJPoTJMA",
        "colab_type": "code",
        "colab": {}
      },
      "source": [
        "\n",
        "\n",
        "# Get set of all mutual friends\n",
        "mapData = data.flatMap(mapFriends).groupByKey()\n",
        "\n",
        "# For each person, get top 10 mutual friends\n",
        "getFriends = mapData.map(findMutual)\n",
        "\n",
        "# Only save the ones we want\n",
        "wanted = [924, 8941, 8942, 9019, 49824, 13420, 44410, 8974, 5850, 9993]\n",
        "result = getFriends.filter(lambda x: x[0] in wanted).collect()\n",
        "\n",
        "sc.stop()"
      ],
      "execution_count": 0,
      "outputs": []
    }
  ]
}