{
  "nbformat": 4,
  "nbformat_minor": 0,
  "metadata": {
    "colab": {
      "name": "HW2_BigData_start.ipynb",
      "provenance": [],
      "collapsed_sections": []
    },
    "kernelspec": {
      "name": "python3",
      "display_name": "Python 3"
    }
  },
  "cells": [
    {
      "cell_type": "markdown",
      "metadata": {
        "id": "n5zLQLgROtt-",
        "colab_type": "text"
      },
      "source": [
        "# Install Spark"
      ]
    },
    {
      "cell_type": "code",
      "metadata": {
        "id": "OhoQHbVPOb12",
        "colab_type": "code",
        "colab": {}
      },
      "source": [
        "# Install latest version of spark. If error, check the latest and replace \"spark-2.4.4\"\n",
        "!apt-get install openjdk-8-jdk-headless -qq > /dev/null\n",
        "!wget -q https://www-us.apache.org/dist/spark/spark-2.4.4/spark-2.4.4-bin-hadoop2.7.tgz\n",
        "!tar xf spark-2.4.4-bin-hadoop2.7.tgz\n",
        "!pip install -q findspark\n",
        "import os\n",
        "os.environ[\"JAVA_HOME\"] = \"/usr/lib/jvm/java-8-openjdk-amd64\"\n",
        "os.environ[\"SPARK_HOME\"] = \"/content/spark-2.4.4-bin-hadoop2.7\"\n",
        "import findspark\n",
        "findspark.init()"
      ],
      "execution_count": 0,
      "outputs": []
    },
    {
      "cell_type": "code",
      "metadata": {
        "id": "Xyfiwjy_Oz-S",
        "colab_type": "code",
        "outputId": "7962de3d-16b7-4582-a1c6-1e3dc1ec266b",
        "colab": {
          "base_uri": "https://localhost:8080/",
          "height": 54
        }
      },
      "source": [
        "import numpy as np\n",
        "import pandas as pd\n",
        "\n",
        "from google.colab import drive\n",
        "drive.mount('/content/gdrive')"
      ],
      "execution_count": 2,
      "outputs": [
        {
          "output_type": "stream",
          "text": [
            "Drive already mounted at /content/gdrive; to attempt to forcibly remount, call drive.mount(\"/content/gdrive\", force_remount=True).\n"
          ],
          "name": "stdout"
        }
      ]
    },
    {
      "cell_type": "markdown",
      "metadata": {
        "id": "jYJ6JeIPPNBL",
        "colab_type": "text"
      },
      "source": [
        "# Part 1. Friendship Recommendation\n",
        "Modify friends.py provided"
      ]
    },
    {
      "cell_type": "code",
      "metadata": {
        "id": "jrAPrb3fP2cC",
        "colab_type": "code",
        "colab": {}
      },
      "source": [
        "from pyspark import SparkConf, SparkContext\n",
        "import pyspark\n",
        "import sys\n",
        "from collections import defaultdict"
      ],
      "execution_count": 0,
      "outputs": []
    },
    {
      "cell_type": "code",
      "metadata": {
        "id": "6O7rO2MhPwJl",
        "colab_type": "code",
        "colab": {}
      },
      "source": [
        "# Finished. Return RDD\n",
        "def getData(sc, filename):\n",
        "    \"\"\"\n",
        "    Load data from raw text file into RDD and transform.\n",
        "    Hint: transfromation you will use: map(<lambda function>).\n",
        "    Args:\n",
        "        sc (SparkContext): spark context.\n",
        "        filename (string): hw2.txt cloud storage URI.\n",
        "    Returns:\n",
        "        RDD: RDD list of tuple of (<User>, [friend1, friend2, ... ]),\n",
        "        each user and a list of user's friends\n",
        "    \"\"\"\n",
        "    # read text file into RDD\n",
        "    data = sc.textFile(filename)\n",
        "\n",
        "    # TODO: implement your logic here\n",
        "    data = data.map(lambda line: np.array([str(x) for x in line.replace('\\n','').split('\\t')]))\n",
        "    data = data.map(lambda p:(int(p[0]), p[1].split(',')))\n",
        "\n",
        "    return data"
      ],
      "execution_count": 0,
      "outputs": []
    },
    {
      "cell_type": "code",
      "metadata": {
        "id": "8_EyfieJP6oF",
        "colab_type": "code",
        "colab": {}
      },
      "source": [
        "def mapFriends(line):\n",
        "    \"\"\"\n",
        "    List out every pair of mutual friends, also record direct friends.\n",
        "    Hint:\n",
        "    For each <User>, record direct friends into a list:\n",
        "    [(<User>, (friend1, 0)),(<User>, (friend2, 0)), ...],\n",
        "    where 0 means <User> and friend are already direct friend,\n",
        "    so you don't need to recommand each other.\n",
        "\n",
        "    For friends in the list, each of them has a friend <User> in common,\n",
        "    so for each of them, record mutual friend in both direction:\n",
        "    (friend1, (friend2, 1)), (friend2, (friend1, 1)),\n",
        "    where 1 means friend1 and friend2 has a mutual friend <User> in this \"line\"\n",
        "\n",
        "    There are possibly multiple output in each input line,\n",
        "    we applied flatMap to flatten them when using this function.\n",
        "    Args:\n",
        "        line (tuple): tuple in data RDD\n",
        "    Yields:\n",
        "        RDD: rdd like a list of (A, (B, 0)) or (A, (C, 1))\n",
        "    \"\"\"\n",
        "    friends = line[1]\n",
        "    user = line[0]\n",
        "\n",
        "    if friends != ['']:\n",
        "        for i in range(len(friends)):\n",
        "            # Direct friend\n",
        "            # TODO: implement your logic here\n",
        "            yield((user,(int(friends[i]),0)))\n",
        "            yield((int(friends[i]),(user,0)))\n",
        "\n",
        "            for j in range(i+1, len(friends)):\n",
        "                # Mutual friend in both direction\n",
        "                # TODO: implement your logic here\n",
        "                yield((int(friends[i]), (int(friends[j]),1)))\n",
        "                yield((int(friends[j]), (int(friends[i]),1)))"
      ],
      "execution_count": 0,
      "outputs": []
    },
    {
      "cell_type": "code",
      "metadata": {
        "id": "TQtBdsRwP9xu",
        "colab_type": "code",
        "colab": {}
      },
      "source": [
        "def findMutual(line):\n",
        "    \"\"\"\n",
        "    Find top 10 mutual friend for each person.\n",
        "    Hint: For each <User>, input is a list of tuples of friend relations,\n",
        "    whether direct friend (count = 0) or has friend in common (count = 1)\n",
        "\n",
        "    Use friendDict to store the number of mutual friend that the current <User>\n",
        "    has in common with each other <User> in tuple.\n",
        "    Input:(User1, [(User2, 1), (User3, 1), (User2, 1), (User3, 0), (User2, 1)])\n",
        "    friendDict stores: {User2:3, User3:1}\n",
        "    directFriend stores: User3\n",
        "\n",
        "    If a user has many mutual frineds and is not a direct frined, we recommend\n",
        "    them to be friends.\n",
        "\n",
        "    Args:\n",
        "        line (tuple): a tuple of (<User1>, [(<User2>, 0), (<User3>, 1)....])\n",
        "    Returns:\n",
        "        RDD of tuple (line[0], returnList),\n",
        "        returnList is a list of recommended friends\n",
        "    \"\"\"\n",
        "    # friendDict, Key: user, value: count of mutual friends\n",
        "    friendDict = defaultdict(int)\n",
        "    # set of direct friends\n",
        "    directFriend = set()\n",
        "    # initialize return list\n",
        "    returnList = []\n",
        "\n",
        "    # TODO: Iterate through input to aggregate counts\n",
        "    # save to friendDict and directFriend\n",
        "    user = line[0]\n",
        "    friends = list(line[1])\n",
        "    for i in range(len(friends)):\n",
        "        len(friends[i])\n",
        "        if friends[i][1] == 0:\n",
        "            directFriend.add(friends[i][0])\n",
        "        else:\n",
        "            friendDict[friends[i][0]] = friendDict.get(friends[i][0],0) + 1\n",
        "\n",
        "    # TODO: Formulate output\n",
        "    sorted_friendDict = sorted(friendDict.items(), key = lambda x:x[1], reverse=True)\n",
        "    for i in sorted_friendDict:\n",
        "        if len(returnList) == 10:\n",
        "            break\n",
        "        elif i[0] in directFriend:\n",
        "            continue\n",
        "        else:\n",
        "            returnList.append(i[0])\n",
        "\n",
        "    return (line[0], returnList)"
      ],
      "execution_count": 0,
      "outputs": []
    },
    {
      "cell_type": "code",
      "metadata": {
        "id": "lun4wsNJR9cG",
        "colab_type": "code",
        "colab": {}
      },
      "source": [
        "#def main():\n",
        "# Configure Spark\n",
        "conf = SparkConf()\n",
        "sc = SparkContext.getOrCreate(conf=conf)\n",
        "# The directory for the file\n",
        "filename = \"/content/gdrive/My Drive/BigData/q1.txt\""
      ],
      "execution_count": 0,
      "outputs": []
    },
    {
      "cell_type": "code",
      "metadata": {
        "id": "Tfk8ZBupTqRO",
        "colab_type": "code",
        "colab": {}
      },
      "source": [
        "# Get data in proper format\n",
        "data = getData(sc, filename)"
      ],
      "execution_count": 0,
      "outputs": []
    },
    {
      "cell_type": "code",
      "metadata": {
        "id": "VQY-zzTgHGXw",
        "colab_type": "code",
        "colab": {}
      },
      "source": [
        "data.take(5)"
      ],
      "execution_count": 0,
      "outputs": []
    },
    {
      "cell_type": "code",
      "metadata": {
        "id": "vITB5ojLTqJp",
        "colab_type": "code",
        "outputId": "5a1cf778-bff6-4c50-9cd9-8823ec7d4c19",
        "colab": {
          "base_uri": "https://localhost:8080/",
          "height": 34
        }
      },
      "source": [
        "# test mapFriends()\n",
        "data.flatMap(mapFriends).take(5)"
      ],
      "execution_count": 85,
      "outputs": [
        {
          "output_type": "execute_result",
          "data": {
            "text/plain": [
              "[(0, (1, 0)), (1, (0, 0)), (1, (2, 1)), (2, (1, 1)), (1, (3, 1))]"
            ]
          },
          "metadata": {
            "tags": []
          },
          "execution_count": 85
        }
      ]
    },
    {
      "cell_type": "code",
      "metadata": {
        "id": "72xqlRdmTqNZ",
        "colab_type": "code",
        "colab": {}
      },
      "source": [
        "# Get set of all mutual friends\n",
        "mapData = data.flatMap(mapFriends).groupByKey()\n",
        "# mapData.take(5)"
      ],
      "execution_count": 0,
      "outputs": []
    },
    {
      "cell_type": "code",
      "metadata": {
        "id": "ikJtFHNpt7zM",
        "colab_type": "code",
        "colab": {
          "base_uri": "https://localhost:8080/",
          "height": 119
        },
        "outputId": "d197260b-a363-493b-8471-1813c1de7f43"
      },
      "source": [
        "# For each person, get top 10 mutual friends\n",
        "getFriends = mapData.map(findMutual)\n",
        "getFriends.take(5)"
      ],
      "execution_count": 87,
      "outputs": [
        {
          "output_type": "execute_result",
          "data": {
            "text/plain": [
              "[(43030, [439, 14064, 29688, 14207, 18163, 7476, 2017, 1689, 45235, 5670]),\n",
              " (42548, [42547, 14319, 35875, 17478, 4736, 12438, 12715, 10680, 5811, 13621]),\n",
              " (13420, [7651, 14264, 4736, 10469, 8508, 8711, 8810, 10500, 10532, 24140]),\n",
              " (48868,\n",
              "  [48837, 48892, 48816, 48833, 48834, 48849, 48852, 48924, 48818, 48823]),\n",
              " (7166, [45981, 45974, 45975, 2986, 3703, 18344, 25747, 25801, 41778, 8959])]"
            ]
          },
          "metadata": {
            "tags": []
          },
          "execution_count": 87
        }
      ]
    },
    {
      "cell_type": "code",
      "metadata": {
        "id": "oDgIDJPoTJMA",
        "colab_type": "code",
        "colab": {}
      },
      "source": [
        "# Only save the ones we want\n",
        "wanted = [924, 8941, 8942, 9019, 49824, 13420, 44410, 8974, 5850, 9993]\n",
        "result = getFriends.filter(lambda x: x[0] in wanted).collect()"
      ],
      "execution_count": 0,
      "outputs": []
    },
    {
      "cell_type": "code",
      "metadata": {
        "id": "Zd8brVQP8emj",
        "colab_type": "code",
        "colab": {
          "base_uri": "https://localhost:8080/",
          "height": 187
        },
        "outputId": "40a066fe-d127-4582-b63e-d5ab3569c35c"
      },
      "source": [
        "for i in result:\n",
        "    print(i)"
      ],
      "execution_count": 89,
      "outputs": [
        {
          "output_type": "stream",
          "text": [
            "(8942, [8939, 8940, 8943, 8944])\n",
            "(44410, [4231, 44462, 351, 6318, 9095, 10328, 10462, 12210, 13238, 14052])\n",
            "(8974, [8960, 12241, 8774, 6973, 8969, 8980, 8982, 8984, 8978, 8979])\n",
            "(5850, [5819, 5805, 5811, 5815, 5828, 5831, 5836, 219, 5804, 5806])\n",
            "(924, [6995, 439, 2409, 11860, 15416, 43748, 45881])\n",
            "(49824, [49846, 43382, 41581, 49786, 49788, 49789, 49814, 49819, 49834, 53])\n",
            "(13420, [7651, 14264, 4736, 10469, 8508, 8711, 8810, 10500, 10532, 24140])\n",
            "(8941, [8943, 8944, 8940])\n",
            "(9993, [9991, 13134, 13478, 13877, 34299, 34485, 34642, 37941])\n",
            "(9019, [9022, 317, 9023])\n"
          ],
          "name": "stdout"
        }
      ]
    },
    {
      "cell_type": "code",
      "metadata": {
        "id": "bEg9LO9MAI7m",
        "colab_type": "code",
        "colab": {}
      },
      "source": [
        "sc.stop()"
      ],
      "execution_count": 0,
      "outputs": []
    },
    {
      "cell_type": "markdown",
      "metadata": {
        "id": "khIDCqmCE1eI",
        "colab_type": "text"
      },
      "source": [
        "5850\n",
        "13420\n",
        "44410\n",
        "49824"
      ]
    },
    {
      "cell_type": "code",
      "metadata": {
        "id": "x_sGm2fQApgq",
        "colab_type": "code",
        "colab": {}
      },
      "source": [
        ""
      ],
      "execution_count": 0,
      "outputs": []
    },
    {
      "cell_type": "markdown",
      "metadata": {
        "id": "FleqTJ0BF6jn",
        "colab_type": "text"
      },
      "source": [
        "# test split"
      ]
    },
    {
      "cell_type": "code",
      "metadata": {
        "id": "Th1n0zZJGLQV",
        "colab_type": "code",
        "colab": {}
      },
      "source": [
        "textdata = []\n",
        "for line in open(filename,'r').readlines():\n",
        "    tmp = line.replace('\\n','')\n",
        "    tmp = tmp.split('\\t')\n",
        "    i0 = int(tmp[0])\n",
        "    i1 = tmp[1].split(',')\n",
        "    if i1 == ['']:\n",
        "        continue\n",
        "    else:\n",
        "        try:\n",
        "            i1 = [int(x) for x in i1]\n",
        "        except ValueError:\n",
        "            print(\"value error, input\", i0,',friends:', i1,\"len,\",len(i[1]))\n",
        "    textdata.append((i0,i1))"
      ],
      "execution_count": 0,
      "outputs": []
    },
    {
      "cell_type": "code",
      "metadata": {
        "id": "OwAYQRNNGea9",
        "colab_type": "code",
        "colab": {
          "base_uri": "https://localhost:8080/",
          "height": 34
        },
        "outputId": "beadb11b-8b42-49e2-958e-cc9d4abb6b8c"
      },
      "source": [
        "np.shape(textdata)"
      ],
      "execution_count": 70,
      "outputs": [
        {
          "output_type": "execute_result",
          "data": {
            "text/plain": [
              "(1, 2)"
            ]
          },
          "metadata": {
            "tags": []
          },
          "execution_count": 70
        }
      ]
    },
    {
      "cell_type": "code",
      "metadata": {
        "id": "0BxRE24NGf3b",
        "colab_type": "code",
        "colab": {
          "base_uri": "https://localhost:8080/",
          "height": 1000
        },
        "outputId": "73bdf31a-8b39-452f-f6f0-274b233875d2"
      },
      "source": [
        "textdata"
      ],
      "execution_count": 71,
      "outputs": [
        {
          "output_type": "execute_result",
          "data": {
            "text/plain": [
              "[(0,\n",
              "  [1,\n",
              "   2,\n",
              "   3,\n",
              "   4,\n",
              "   5,\n",
              "   6,\n",
              "   7,\n",
              "   8,\n",
              "   9,\n",
              "   10,\n",
              "   11,\n",
              "   12,\n",
              "   13,\n",
              "   14,\n",
              "   15,\n",
              "   16,\n",
              "   17,\n",
              "   18,\n",
              "   19,\n",
              "   20,\n",
              "   21,\n",
              "   22,\n",
              "   23,\n",
              "   24,\n",
              "   25,\n",
              "   26,\n",
              "   27,\n",
              "   28,\n",
              "   29,\n",
              "   30,\n",
              "   31,\n",
              "   32,\n",
              "   33,\n",
              "   34,\n",
              "   35,\n",
              "   36,\n",
              "   37,\n",
              "   38,\n",
              "   39,\n",
              "   40,\n",
              "   41,\n",
              "   42,\n",
              "   43,\n",
              "   44,\n",
              "   45,\n",
              "   46,\n",
              "   47,\n",
              "   48,\n",
              "   49,\n",
              "   50,\n",
              "   51,\n",
              "   52,\n",
              "   53,\n",
              "   54,\n",
              "   55,\n",
              "   56,\n",
              "   57,\n",
              "   58,\n",
              "   59,\n",
              "   60,\n",
              "   61,\n",
              "   62,\n",
              "   63,\n",
              "   64,\n",
              "   65,\n",
              "   66,\n",
              "   67,\n",
              "   68,\n",
              "   69,\n",
              "   70,\n",
              "   71,\n",
              "   72,\n",
              "   73,\n",
              "   74,\n",
              "   75,\n",
              "   76,\n",
              "   77,\n",
              "   78,\n",
              "   79,\n",
              "   80,\n",
              "   81,\n",
              "   82,\n",
              "   83,\n",
              "   84,\n",
              "   85,\n",
              "   86,\n",
              "   87,\n",
              "   88,\n",
              "   89,\n",
              "   90,\n",
              "   91,\n",
              "   92,\n",
              "   93,\n",
              "   94])]"
            ]
          },
          "metadata": {
            "tags": []
          },
          "execution_count": 71
        }
      ]
    },
    {
      "cell_type": "code",
      "metadata": {
        "id": "AW2kwureI3gc",
        "colab_type": "code",
        "colab": {}
      },
      "source": [
        ""
      ],
      "execution_count": 0,
      "outputs": []
    }
  ]
}