{
  "nbformat": 4,
  "nbformat_minor": 0,
  "metadata": {
    "colab": {
      "name": "Q7.ipynb",
      "provenance": [],
      "collapsed_sections": []
    },
    "kernelspec": {
      "name": "python3",
      "display_name": "Python 3"
    }
  },
  "cells": [
    {
      "cell_type": "code",
      "metadata": {
        "id": "oT029qJ2ufHS",
        "colab_type": "code",
        "colab": {}
      },
      "source": [
        "import numpy as np"
      ],
      "execution_count": 0,
      "outputs": []
    },
    {
      "cell_type": "code",
      "metadata": {
        "id": "wvC-qJ9IunGo",
        "colab_type": "code",
        "colab": {}
      },
      "source": [
        "L = {'ID1':2, 'ID2':4, 'ID3':1, 'ID4':1, 'ID5':2}"
      ],
      "execution_count": 0,
      "outputs": []
    },
    {
      "cell_type": "code",
      "metadata": {
        "id": "-rGjpAQEu-j4",
        "colab_type": "code",
        "colab": {}
      },
      "source": [
        "M = {'ID1':('ID2'), 'ID2':('ID3','ID5'), 'ID3':('ID1','ID2','ID4','ID5'), \n",
        "     'ID4':('ID2'), 'ID5':('ID1','ID2')}"
      ],
      "execution_count": 0,
      "outputs": []
    },
    {
      "cell_type": "code",
      "metadata": {
        "id": "Z_a6qquYvfRG",
        "colab_type": "code",
        "colab": {}
      },
      "source": [
        "PR = {'ID1':0.2, 'ID2':0.2, 'ID3':0.2, 'ID4':0.2, 'ID5':0.2}"
      ],
      "execution_count": 0,
      "outputs": []
    },
    {
      "cell_type": "code",
      "metadata": {
        "id": "jAlhvUi5vQ9j",
        "colab_type": "code",
        "colab": {}
      },
      "source": [
        "N = 5\n",
        "d = 0.85\n",
        "tol = 0.1"
      ],
      "execution_count": 0,
      "outputs": []
    },
    {
      "cell_type": "code",
      "metadata": {
        "id": "zH2zHzNOwRnW",
        "colab_type": "code",
        "colab": {
          "base_uri": "https://localhost:8080/",
          "height": 139
        },
        "outputId": "b3e8ba5d-a868-4d5a-ace8-297eb9b49a23"
      },
      "source": [
        "iteration = 0\n",
        "while True:\n",
        "    flag = True\n",
        "    newPR = dict()\n",
        "    print(\"Iteration\", iteration, \". Page rank:\", PR)\n",
        "    for i in L.keys():\n",
        "        pr = (1-d)/N\n",
        "        if type(M[i])==str:\n",
        "            pr += d*PR[M[i]]/L[M[i]]\n",
        "        else:\n",
        "            for j in M[i]:\n",
        "                pr += d*PR[j]/L[j]\n",
        "        pr = float(\"{0:.2f}\".format(pr))\n",
        "        if abs(pr - PR[i]) > tol:\n",
        "            flag = False\n",
        "        newPR[i] = pr\n",
        "    if flag:\n",
        "        print(\"Iteration\", iteration+1, \"converges.\")\n",
        "        print(\"Page rank:\", newPR)\n",
        "        break\n",
        "    PR = newPR\n",
        "    iteration += 1"
      ],
      "execution_count": 52,
      "outputs": [
        {
          "output_type": "stream",
          "text": [
            "Iteration 0 . Page rank: {'ID1': 0.2, 'ID2': 0.2, 'ID3': 0.2, 'ID4': 0.2, 'ID5': 0.2}\n",
            "Iteration 1 . Page rank: {'ID1': 0.07, 'ID2': 0.29, 'ID3': 0.41, 'ID4': 0.07, 'ID5': 0.16}\n",
            "Iteration 2 . Page rank: {'ID1': 0.09, 'ID2': 0.45, 'ID3': 0.25, 'ID4': 0.09, 'ID5': 0.12}\n",
            "Iteration 3 . Page rank: {'ID1': 0.13, 'ID2': 0.29, 'ID3': 0.29, 'ID4': 0.13, 'ID5': 0.16}\n",
            "Iteration 4 converges.\n",
            "Page rank: {'ID1': 0.09, 'ID2': 0.34, 'ID3': 0.33, 'ID4': 0.09, 'ID5': 0.15}\n"
          ],
          "name": "stdout"
        }
      ]
    }
  ]
}