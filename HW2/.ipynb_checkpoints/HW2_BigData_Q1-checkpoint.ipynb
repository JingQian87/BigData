{
 "cells": [
  {
   "cell_type": "markdown",
   "metadata": {
    "colab_type": "text",
    "id": "4eXtE7I3VdQb"
   },
   "source": [
    "# HW2 Big Data Analytics\n",
    "## Jing Qian (jq2282)"
   ]
  },
  {
   "cell_type": "markdown",
   "metadata": {
    "colab_type": "text",
    "id": "jYJ6JeIPPNBL"
   },
   "source": [
    "### Part 1. Friendship Recommendation\n",
    "Modify friends.py provided"
   ]
  },
  {
   "cell_type": "code",
   "execution_count": 0,
   "metadata": {
    "colab": {},
    "colab_type": "code",
    "id": "OhoQHbVPOb12"
   },
   "outputs": [],
   "source": [
    "# Install latest version of spark. If error, check the latest and replace \"spark-2.4.4\"\n",
    "!apt-get install openjdk-8-jdk-headless -qq > /dev/null\n",
    "!wget -q https://www-us.apache.org/dist/spark/spark-2.4.4/spark-2.4.4-bin-hadoop2.7.tgz\n",
    "!tar xf spark-2.4.4-bin-hadoop2.7.tgz\n",
    "!pip install -q findspark\n",
    "import os\n",
    "os.environ[\"JAVA_HOME\"] = \"/usr/lib/jvm/java-8-openjdk-amd64\"\n",
    "os.environ[\"SPARK_HOME\"] = \"/content/spark-2.4.4-bin-hadoop2.7\"\n",
    "import findspark\n",
    "findspark.init()"
   ]
  },
  {
   "cell_type": "code",
   "execution_count": 2,
   "metadata": {
    "colab": {
     "base_uri": "https://localhost:8080/",
     "height": 54
    },
    "colab_type": "code",
    "id": "Xyfiwjy_Oz-S",
    "outputId": "ebf76a63-6b3c-4996-bc93-5d4924d93be8"
   },
   "outputs": [
    {
     "name": "stdout",
     "output_type": "stream",
     "text": [
      "Drive already mounted at /content/gdrive; to attempt to forcibly remount, call drive.mount(\"/content/gdrive\", force_remount=True).\n"
     ]
    }
   ],
   "source": [
    "import numpy as np\n",
    "import pandas as pd\n",
    "\n",
    "from google.colab import drive\n",
    "drive.mount('/content/gdrive')"
   ]
  },
  {
   "cell_type": "code",
   "execution_count": 0,
   "metadata": {
    "colab": {},
    "colab_type": "code",
    "id": "jrAPrb3fP2cC"
   },
   "outputs": [],
   "source": [
    "from pyspark import SparkConf, SparkContext\n",
    "import pyspark\n",
    "import sys\n",
    "from collections import defaultdict"
   ]
  },
  {
   "cell_type": "code",
   "execution_count": 0,
   "metadata": {
    "colab": {},
    "colab_type": "code",
    "id": "6O7rO2MhPwJl"
   },
   "outputs": [],
   "source": [
    "# Finished. Return RDD\n",
    "def getData(sc, filename):\n",
    "    \"\"\"\n",
    "    Load data from raw text file into RDD and transform.\n",
    "    Hint: transfromation you will use: map(<lambda function>).\n",
    "    Args:\n",
    "        sc (SparkContext): spark context.\n",
    "        filename (string): hw2.txt cloud storage URI.\n",
    "    Returns:\n",
    "        RDD: RDD list of tuple of (<User>, [friend1, friend2, ... ]),\n",
    "        each user and a list of user's friends\n",
    "    \"\"\"\n",
    "    # read text file into RDD\n",
    "    data = sc.textFile(filename)\n",
    "\n",
    "    # TODO: implement your logic here\n",
    "    data = data.map(lambda line: np.array([str(x) for x in line.replace('\\n','').split('\\t')]))\n",
    "    data = data.map(lambda p:(int(p[0]), p[1].split(',')))\n",
    "\n",
    "    return data"
   ]
  },
  {
   "cell_type": "code",
   "execution_count": 0,
   "metadata": {
    "colab": {},
    "colab_type": "code",
    "id": "8_EyfieJP6oF"
   },
   "outputs": [],
   "source": [
    "def mapFriends(line):\n",
    "    \"\"\"\n",
    "    List out every pair of mutual friends, also record direct friends.\n",
    "    Hint:\n",
    "    For each <User>, record direct friends into a list:\n",
    "    [(<User>, (friend1, 0)),(<User>, (friend2, 0)), ...],\n",
    "    where 0 means <User> and friend are already direct friend,\n",
    "    so you don't need to recommand each other.\n",
    "\n",
    "    For friends in the list, each of them has a friend <User> in common,\n",
    "    so for each of them, record mutual friend in both direction:\n",
    "    (friend1, (friend2, 1)), (friend2, (friend1, 1)),\n",
    "    where 1 means friend1 and friend2 has a mutual friend <User> in this \"line\"\n",
    "\n",
    "    There are possibly multiple output in each input line,\n",
    "    we applied flatMap to flatten them when using this function.\n",
    "    Args:\n",
    "        line (tuple): tuple in data RDD\n",
    "    Yields:\n",
    "        RDD: rdd like a list of (A, (B, 0)) or (A, (C, 1))\n",
    "    \"\"\"\n",
    "    friends = line[1]\n",
    "    user = line[0]\n",
    "\n",
    "    if friends != ['']:\n",
    "        for i in range(len(friends)):\n",
    "            # Direct friend\n",
    "            # TODO: implement your logic here\n",
    "            yield((user,(int(friends[i]),0)))\n",
    "\n",
    "            for j in range(i+1, len(friends)):\n",
    "                # Mutual friend in both direction\n",
    "                # TODO: implement your logic here\n",
    "                yield((int(friends[i]), (int(friends[j]),1)))\n",
    "                yield((int(friends[j]), (int(friends[i]),1)))"
   ]
  },
  {
   "cell_type": "code",
   "execution_count": 0,
   "metadata": {
    "colab": {},
    "colab_type": "code",
    "id": "TQtBdsRwP9xu"
   },
   "outputs": [],
   "source": [
    "def findMutual(line):\n",
    "    \"\"\"\n",
    "    Find top 10 mutual friend for each person.\n",
    "    Hint: For each <User>, input is a list of tuples of friend relations,\n",
    "    whether direct friend (count = 0) or has friend in common (count = 1)\n",
    "\n",
    "    Use friendDict to store the number of mutual friend that the current <User>\n",
    "    has in common with each other <User> in tuple.\n",
    "    Input:(User1, [(User2, 1), (User3, 1), (User2, 1), (User3, 0), (User2, 1)])\n",
    "    friendDict stores: {User2:3, User3:1}\n",
    "    directFriend stores: User3\n",
    "\n",
    "    If a user has many mutual frineds and is not a direct frined, we recommend\n",
    "    them to be friends.\n",
    "\n",
    "    Args:\n",
    "        line (tuple): a tuple of (<User1>, [(<User2>, 0), (<User3>, 1)....])\n",
    "    Returns:\n",
    "        RDD of tuple (line[0], returnList),\n",
    "        returnList is a list of recommended friends\n",
    "    \"\"\"\n",
    "    # friendDict, Key: user, value: count of mutual friends\n",
    "    friendDict = defaultdict(int)\n",
    "    # set of direct friends\n",
    "    directFriend = set()\n",
    "    # initialize return list\n",
    "    returnList = []\n",
    "\n",
    "    # TODO: Iterate through input to aggregate counts\n",
    "    # save to friendDict and directFriend\n",
    "    user = line[0]\n",
    "    friends = list(line[1])\n",
    "    for i in range(len(friends)):\n",
    "        len(friends[i])\n",
    "        if friends[i][1] == 0:\n",
    "            directFriend.add(friends[i][0])\n",
    "        else:\n",
    "            friendDict[friends[i][0]] = friendDict.get(friends[i][0],0) + 1\n",
    "\n",
    "    # TODO: Formulate output\n",
    "    sorted_friendDict = sorted(friendDict.items(), key = lambda x:(-x[1],x[0]))\n",
    "    for i in sorted_friendDict:\n",
    "        if len(returnList) == 10:\n",
    "            break\n",
    "        elif i[0] in directFriend:\n",
    "            continue\n",
    "        else:\n",
    "            returnList.append(i[0])\n",
    "\n",
    "    return (line[0], returnList)"
   ]
  },
  {
   "cell_type": "code",
   "execution_count": 0,
   "metadata": {
    "colab": {},
    "colab_type": "code",
    "id": "lun4wsNJR9cG"
   },
   "outputs": [],
   "source": [
    "#def main():\n",
    "# Configure Spark\n",
    "conf = SparkConf()\n",
    "sc = SparkContext.getOrCreate(conf=conf)\n",
    "# The directory for the file\n",
    "filename = \"/content/gdrive/My Drive/BigData/q1.txt\""
   ]
  },
  {
   "cell_type": "code",
   "execution_count": 0,
   "metadata": {
    "colab": {},
    "colab_type": "code",
    "id": "Tfk8ZBupTqRO"
   },
   "outputs": [],
   "source": [
    "# Get data in proper format\n",
    "data = getData(sc, filename)"
   ]
  },
  {
   "cell_type": "code",
   "execution_count": 0,
   "metadata": {
    "colab": {},
    "colab_type": "code",
    "id": "72xqlRdmTqNZ"
   },
   "outputs": [],
   "source": [
    "# Get set of all mutual friends\n",
    "mapData = data.flatMap(mapFriends).groupByKey()\n",
    "# mapData.take(5)"
   ]
  },
  {
   "cell_type": "code",
   "execution_count": 0,
   "metadata": {
    "colab": {},
    "colab_type": "code",
    "id": "ikJtFHNpt7zM"
   },
   "outputs": [],
   "source": [
    "# For each person, get top 10 mutual friends\n",
    "getFriends = mapData.map(findMutual)\n",
    "#getFriends.take(5)"
   ]
  },
  {
   "cell_type": "code",
   "execution_count": 0,
   "metadata": {
    "colab": {},
    "colab_type": "code",
    "id": "oDgIDJPoTJMA"
   },
   "outputs": [],
   "source": [
    "# Only save the ones we want\n",
    "wanted = [924, 8941, 8942, 9019, 49824, 13420, 44410, 8974, 5850, 9993]\n",
    "result = getFriends.filter(lambda x: x[0] in wanted).collect()"
   ]
  },
  {
   "cell_type": "code",
   "execution_count": 0,
   "metadata": {
    "colab": {},
    "colab_type": "code",
    "id": "bEg9LO9MAI7m"
   },
   "outputs": [],
   "source": [
    "sc.stop()"
   ]
  },
  {
   "cell_type": "markdown",
   "metadata": {
    "colab_type": "text",
    "id": "Od2wEbZ7Vp5s"
   },
   "source": [
    "#### (2). Recommendations result for the users with the following user IDS: [924, 8941, 8942, 9019, 49824, 13420, 44410, 8974, 5850, 9993]"
   ]
  },
  {
   "cell_type": "code",
   "execution_count": 12,
   "metadata": {
    "colab": {
     "base_uri": "https://localhost:8080/",
     "height": 207
    },
    "colab_type": "code",
    "id": "Zd8brVQP8emj",
    "outputId": "847188fe-0c70-450b-cdd4-2013dc4d6f68"
   },
   "outputs": [
    {
     "name": "stdout",
     "output_type": "stream",
     "text": [
      "(924, [439, 2409, 6995, 11860, 15416, 43748, 45881])\n",
      "(5850, [5819, 5805, 5811, 5815, 5828, 5831, 5836, 219, 576, 639])\n",
      "(8941, [8943, 8944, 8940])\n",
      "(8942, [8939, 8940, 8943, 8944])\n",
      "(8974, [8960, 12241, 8774, 6973, 8969, 8980, 8982, 8984, 8978, 8979])\n",
      "(9019, [9022, 317, 9023])\n",
      "(9993, [9991, 13134, 13478, 13877, 34299, 34485, 34642, 37941])\n",
      "(13420, [4736, 7651, 10469, 14264, 351, 2101, 2554, 7608, 8508, 8711])\n",
      "(44410, [4231, 44462, 351, 4302, 6318, 8221, 9095, 10328, 10370, 10462])\n",
      "(49824, [49846, 41581, 43382, 49786, 49788, 49789, 49814, 49819, 49834, 16])\n"
     ]
    }
   ],
   "source": [
    "for i in sorted(result,key = lambda x:x[0]):\n",
    "    print(i)"
   ]
  }
 ],
 "metadata": {
  "colab": {
   "collapsed_sections": [],
   "name": "HW2_BigData_Q1.ipynb",
   "provenance": []
  },
  "kernelspec": {
   "display_name": "Python 3",
   "language": "python",
   "name": "python3"
  },
  "language_info": {
   "codemirror_mode": {
    "name": "ipython",
    "version": 3
   },
   "file_extension": ".py",
   "mimetype": "text/x-python",
   "name": "python",
   "nbconvert_exporter": "python",
   "pygments_lexer": "ipython3",
   "version": "3.6.9"
  }
 },
 "nbformat": 4,
 "nbformat_minor": 1
}
