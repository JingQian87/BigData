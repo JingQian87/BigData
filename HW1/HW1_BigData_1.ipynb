{
  "nbformat": 4,
  "nbformat_minor": 0,
  "metadata": {
    "colab": {
      "name": "HW1-BigData-1.ipynb",
      "provenance": [],
      "collapsed_sections": []
    },
    "kernelspec": {
      "name": "python3",
      "display_name": "Python 3"
    },
    "accelerator": "GPU"
  },
  "cells": [
    {
      "cell_type": "markdown",
      "metadata": {
        "id": "Nn0ggvnSofyY",
        "colab_type": "text"
      },
      "source": [
        "# Install Spark"
      ]
    },
    {
      "cell_type": "code",
      "metadata": {
        "id": "zaCsFhDyLBYF",
        "colab_type": "code",
        "colab": {}
      },
      "source": [
        "# Install latest version of spark. If error, check the latest and replace \"spark-2.4.4\"\n",
        "!apt-get install openjdk-8-jdk-headless -qq > /dev/null\n",
        "!wget -q https://www-us.apache.org/dist/spark/spark-2.4.4/spark-2.4.4-bin-hadoop2.7.tgz\n",
        "!tar xf spark-2.4.4-bin-hadoop2.7.tgz\n",
        "!pip install -q findspark\n",
        "import os\n",
        "os.environ[\"JAVA_HOME\"] = \"/usr/lib/jvm/java-8-openjdk-amd64\"\n",
        "os.environ[\"SPARK_HOME\"] = \"/content/spark-2.4.4-bin-hadoop2.7\"\n",
        "import findspark\n",
        "findspark.init()"
      ],
      "execution_count": 0,
      "outputs": []
    },
    {
      "cell_type": "code",
      "metadata": {
        "id": "QRGdIJoNx4JE",
        "colab_type": "code",
        "outputId": "c029a3bf-c0f4-45e4-d88b-b4763b43645a",
        "colab": {
          "base_uri": "https://localhost:8080/",
          "height": 122
        }
      },
      "source": [
        "import numpy as np\n",
        "import pandas as pd\n",
        "\n",
        "from google.colab import drive\n",
        "drive.mount('/content/gdrive')"
      ],
      "execution_count": 2,
      "outputs": [
        {
          "output_type": "stream",
          "text": [
            "Go to this URL in a browser: https://accounts.google.com/o/oauth2/auth?client_id=947318989803-6bn6qk8qdgf4n4g3pfee6491hc0brc4i.apps.googleusercontent.com&redirect_uri=urn%3Aietf%3Awg%3Aoauth%3A2.0%3Aoob&scope=email%20https%3A%2F%2Fwww.googleapis.com%2Fauth%2Fdocs.test%20https%3A%2F%2Fwww.googleapis.com%2Fauth%2Fdrive%20https%3A%2F%2Fwww.googleapis.com%2Fauth%2Fdrive.photos.readonly%20https%3A%2F%2Fwww.googleapis.com%2Fauth%2Fpeopleapi.readonly&response_type=code\n",
            "\n",
            "Enter your authorization code:\n",
            "··········\n",
            "Mounted at /content/gdrive\n"
          ],
          "name": "stdout"
        }
      ]
    },
    {
      "cell_type": "markdown",
      "metadata": {
        "id": "iapbDLjcoiWg",
        "colab_type": "text"
      },
      "source": [
        "# Part 1. kMeans.\n",
        "Modify kmeans.py provided"
      ]
    },
    {
      "cell_type": "code",
      "metadata": {
        "id": "Y54y7ug_odYA",
        "colab_type": "code",
        "colab": {}
      },
      "source": [
        "import operator\n",
        "import sys\n",
        "from pyspark import SparkConf, SparkContext\n",
        "import numpy as np\n",
        "import matplotlib.pyplot as plt\n",
        "from scipy import linalg"
      ],
      "execution_count": 0,
      "outputs": []
    },
    {
      "cell_type": "code",
      "metadata": {
        "id": "XlPsRmz6oum_",
        "colab_type": "code",
        "colab": {}
      },
      "source": [
        "# Macros.\n",
        "MAX_ITER = 20\n",
        "DATA_PATH = \"/content/gdrive/My Drive/BigData/q1/data.txt\"\n",
        "C1_PATH = \"/content/gdrive/My Drive/BigData/q1/c1.txt\"\n",
        "C2_PATH = \"/content/gdrive/My Drive/BigData/q1/c2.txt\"\n",
        "NORM = 2"
      ],
      "execution_count": 0,
      "outputs": []
    },
    {
      "cell_type": "code",
      "metadata": {
        "id": "UpuQNCYxpaNI",
        "colab_type": "code",
        "colab": {}
      },
      "source": [
        "# Load data (corresponding to the def main())\n",
        "# Spark settings\n",
        "conf = SparkConf()\n",
        "sc = SparkContext(conf=conf)\n",
        "# Load the data, cache this since we're accessing this each iteration\n",
        "data = sc.textFile(DATA_PATH).map(\n",
        "        lambda line: np.array([float(x) for x in line.split(' ')])\n",
        "        ).cache()\n",
        "# Load the initial centroids c1, split into a list of np arrays\n",
        "centroids1 = sc.textFile(C1_PATH).map(\n",
        "        lambda line: np.array([float(x) for x in line.split(' ')])\n",
        "        ).collect()\n",
        "# Load the initial centroids c2, split into a list of np arrays\n",
        "centroids2 = sc.textFile(C2_PATH).map(\n",
        "        lambda line: np.array([float(x) for x in line.split(' ')])\n",
        "        ).collect()"
      ],
      "execution_count": 0,
      "outputs": []
    },
    {
      "cell_type": "code",
      "metadata": {
        "id": "3Nj-Ea9-pTbr",
        "colab_type": "code",
        "colab": {}
      },
      "source": [
        "# Helper functions.\n",
        "def closest(p, centroids, norm):\n",
        "    \"\"\"\n",
        "    Compute closest centroid for a given point.\n",
        "    Args:\n",
        "        p (numpy.ndarray): input point\n",
        "        centroids (list): A list of centroids points\n",
        "        norm (int): 1 or 2\n",
        "    Returns:\n",
        "        int: The index of closest centroid.\n",
        "    \"\"\"\n",
        "    closest_c = min([(i, linalg.norm(p - c, norm))\n",
        "                    for i, c in enumerate(centroids)],\n",
        "                    key=operator.itemgetter(1))[0]\n",
        "    return closest_c"
      ],
      "execution_count": 0,
      "outputs": []
    },
    {
      "cell_type": "code",
      "metadata": {
        "id": "BY-N6ubtaFkC",
        "colab_type": "code",
        "colab": {}
      },
      "source": [
        "def dist(centroid, p, norm):\n",
        "    \"\"\"\n",
        "    Compute closest centroid for a given point.\n",
        "    Args:\n",
        "        centroid (numpy.ndarray): centroid of the cluster p belongs to\n",
        "        p (numpy.ndarray): input point        \n",
        "        norm (int): 1 or 2\n",
        "    Returns:\n",
        "        float: the distance between centroid and p.\n",
        "    \"\"\"\n",
        "    res = 0\n",
        "    if norm == 1:\n",
        "      res = linalg.norm(p - centroid, norm)\n",
        "    elif norm == 2:\n",
        "      res = linalg.norm(p - centroid, norm) ** 2\n",
        "    return res"
      ],
      "execution_count": 0,
      "outputs": []
    },
    {
      "cell_type": "code",
      "metadata": {
        "id": "gntuuB2dp-iA",
        "colab_type": "code",
        "colab": {}
      },
      "source": [
        "# K-means clustering\n",
        "def kmeans(data, centroids, norm=2):\n",
        "    \"\"\"\n",
        "    Conduct k-means clustering given data and centroid.\n",
        "    This is the basic version of k-means, you might need more\n",
        "    code to record cluster assignment to plot TSNE, and more\n",
        "    data structure to record cost.\n",
        "    Args:\n",
        "        data (RDD): RDD of points\n",
        "        centroids (list): A list of centroids points\n",
        "        norm (int): 1 or 2\n",
        "    Returns:\n",
        "        RDD: assignment information of points, a RDD of (centroid, (point, 1))\n",
        "        list: a list of centroids\n",
        "        loss: a list of within-cluster cost\n",
        "    \"\"\"\n",
        "    # iterative k-means\n",
        "    loss = []\n",
        "    for _ in range(MAX_ITER):\n",
        "        # Transform each point to a combo of point, closest centroid, count=1\n",
        "        # point -> (closest_centroid, (point, 1))\n",
        "        data_trans = data.map(lambda p:(closest(p, centroids,norm),(p,1)))\n",
        "\n",
        "        # Compute the loss\n",
        "        data_dist = data_trans.map(lambda p: dist(centroids[p[0]], p[1][0], norm))\n",
        "        loss.append(sum(data_dist.collect()))\n",
        "        \n",
        "        # Re-compute cluster center\n",
        "        # For each cluster center (key), aggregate its values\n",
        "        # by summing up points and count\n",
        "        clusters = data_trans.reduceByKey(lambda p1_c, p2_c: (p1_c[0]+p2_c[0], p1_c[1]+p2_c[1]))\n",
        "        \n",
        "        # Average the points for each centroid: divide sum of points by count\n",
        "        # Use collect() to turn RDD into list\n",
        "        centroids = clusters.map(lambda c:c[1][0]/c[1][1]).collect()\n",
        "        \n",
        "    return data_trans, centroids, loss"
      ],
      "execution_count": 0,
      "outputs": []
    },
    {
      "cell_type": "markdown",
      "metadata": {
        "id": "H-mhCT9-ufUY",
        "colab_type": "text"
      },
      "source": [
        "## (1). 在data.txt上以c1.txt和c2.txt作为初始质心运行群集，并使用L1。计算并绘制每次迭代集群内部成本。您需要在此处提交两个图表."
      ]
    },
    {
      "cell_type": "code",
      "metadata": {
        "id": "SGkKgPZhugsw",
        "colab_type": "code",
        "colab": {}
      },
      "source": [
        "data11, centroids11, loss11 = kmeans(data, centroids1, norm=1)\n",
        "data21, centroids21, loss21 = kmeans(data, centroids2, norm=1)"
      ],
      "execution_count": 0,
      "outputs": []
    },
    {
      "cell_type": "code",
      "metadata": {
        "id": "00noje0_bEJv",
        "colab_type": "code",
        "colab": {
          "base_uri": "https://localhost:8080/",
          "height": 295
        },
        "outputId": "93da7b27-bee2-4a97-9be5-a5342dfee0ab"
      },
      "source": [
        "import matplotlib.pyplot as plt\n",
        "x = np.arange(1,21)\n",
        "plt.plot(x,loss11, label='c1 (random initialization)')\n",
        "plt.plot(x,loss21, label='c2 (farthest initialization)')\n",
        "plt.title('Results using L1 distance')\n",
        "plt.xlabel('Iteration number')\n",
        "plt.ylabel('Cost')\n",
        "plt.legend()\n",
        "plt.savefig('/content/gdrive/My Drive/BigData/q1/Q1_1.png')"
      ],
      "execution_count": 14,
      "outputs": [
        {
          "output_type": "display_data",
          "data": {
            "image/png": "[encoded data removed]",
            "text/plain": [
              "<Figure size 432x288 with 1 Axes>"
            ]
          },
          "metadata": {
            "tags": []
          }
        }
      ]
    },
    {
      "cell_type": "markdown",
      "metadata": {
        "id": "P9N0UthKZKMX",
        "colab_type": "text"
      },
      "source": [
        "## (2) 在data.txt上以c1.txt和c2.txt作为初始质心运行群集，并使用L2。计算并绘制每次迭代集群内部成本。您需要在此处提交两个图表。"
      ]
    },
    {
      "cell_type": "code",
      "metadata": {
        "id": "ou2h8AN_T1NW",
        "colab_type": "code",
        "colab": {}
      },
      "source": [
        "data12, centroids12, loss12 = kmeans(data, centroids1, norm=2)\n",
        "data22, centroids22, loss22 = kmeans(data, centroids2, norm=2)"
      ],
      "execution_count": 0,
      "outputs": []
    },
    {
      "cell_type": "code",
      "metadata": {
        "id": "maw0aSRWa6su",
        "colab_type": "code",
        "colab": {
          "base_uri": "https://localhost:8080/",
          "height": 295
        },
        "outputId": "16d7307d-73f8-414f-8624-d9c5a0986bb6"
      },
      "source": [
        "import matplotlib.pyplot as plt\n",
        "x = np.arange(1,21)\n",
        "plt.plot(x,loss12, label='c1 (random initialization)')\n",
        "plt.plot(x,loss22, label='c2 (farthest initialization)')\n",
        "plt.title('Results using L2 distance')\n",
        "plt.xlabel('Iteration number')\n",
        "plt.ylabel('Cost')\n",
        "plt.legend()\n",
        "plt.savefig('/content/gdrive/My Drive/BigData/q1/Q1_2.png')"
      ],
      "execution_count": 13,
      "outputs": [
        {
          "output_type": "display_data",
          "data": {
            "image/png": "[encoded data removed]",
            "text/plain": [
              "<Figure size 432x288 with 1 Axes>"
            ]
          },
          "metadata": {
            "tags": []
          }
        }
      ]
    },
    {
      "cell_type": "markdown",
      "metadata": {
        "id": "OmelhH0sj61a",
        "colab_type": "text"
      },
      "source": [
        "## (3) T-SNE是一种降维方法，特别适合于可视化高维数据。可视化您的（2）的聚类分配结果，将尺寸缩小到2D空间。您需要在此处提交两个图表。"
      ]
    },
    {
      "cell_type": "code",
      "metadata": {
        "id": "SToBjtp7j6Wa",
        "colab_type": "code",
        "colab": {}
      },
      "source": [
        "from sklearn.manifold import TSNE"
      ],
      "execution_count": 0,
      "outputs": []
    },
    {
      "cell_type": "code",
      "metadata": {
        "id": "QxqIXGHdkAGm",
        "colab_type": "code",
        "colab": {
          "base_uri": "https://localhost:8080/",
          "height": 34
        },
        "outputId": "c5556ac7-4d3a-49fc-93c0-eaf3fef0256c"
      },
      "source": [
        "data_np = np.array(data.collect())\n",
        "data_np.shape"
      ],
      "execution_count": 50,
      "outputs": [
        {
          "output_type": "execute_result",
          "data": {
            "text/plain": [
              "(4601, 58)"
            ]
          },
          "metadata": {
            "tags": []
          },
          "execution_count": 50
        }
      ]
    },
    {
      "cell_type": "code",
      "metadata": {
        "id": "PLihkba-kE1o",
        "colab_type": "code",
        "colab": {
          "base_uri": "https://localhost:8080/",
          "height": 34
        },
        "outputId": "59ce12f4-81f7-4a69-b05f-830a04c85eb7"
      },
      "source": [
        "data_embedded = TSNE(n_components=2).fit_transform(data_np)\n",
        "data_embedded.shape"
      ],
      "execution_count": 52,
      "outputs": [
        {
          "output_type": "execute_result",
          "data": {
            "text/plain": [
              "(4601, 2)"
            ]
          },
          "metadata": {
            "tags": []
          },
          "execution_count": 52
        }
      ]
    },
    {
      "cell_type": "code",
      "metadata": {
        "id": "WJ43syCEkZxZ",
        "colab_type": "code",
        "colab": {
          "base_uri": "https://localhost:8080/",
          "height": 269
        },
        "outputId": "17d7da70-a5ba-45a5-a077-c078317decd8"
      },
      "source": [
        "vis_x = data_embedded[:,0]\n",
        "vis_y = data_embedded[:,1]\n",
        "plt.scatter(vis_x, vis_y, cmap=plt.cm.get_cmap(\"jet\",10))\n",
        "plt.show()"
      ],
      "execution_count": 53,
      "outputs": [
        {
          "output_type": "display_data",
          "data": {
            "image/png": "[encoded data removed]",
            "text/plain": [
              "<Figure size 432x288 with 1 Axes>"
            ]
          },
          "metadata": {
            "tags": []
          }
        }
      ]
    },
    {
      "cell_type": "code",
      "metadata": {
        "id": "zLdoCnw1kpHF",
        "colab_type": "code",
        "colab": {}
      },
      "source": [
        ""
      ],
      "execution_count": 0,
      "outputs": []
    }
  ]
}