{
  "nbformat": 4,
  "nbformat_minor": 0,
  "metadata": {
    "colab": {
      "name": "HW1-BigData.ipynb",
      "provenance": []
    },
    "kernelspec": {
      "name": "python3",
      "display_name": "Python 3"
    },
    "accelerator": "GPU"
  },
  "cells": [
    {
      "cell_type": "code",
      "metadata": {
        "id": "zaCsFhDyLBYF",
        "colab_type": "code",
        "colab": {}
      },
      "source": [
        "# Install latest version of spark. If error, check the latest and replace \"spark-2.4.4\"\n",
        "!apt-get install openjdk-8-jdk-headless -qq > /dev/null\n",
        "!wget -q https://www-us.apache.org/dist/spark/spark-2.4.4/spark-2.4.4-bin-hadoop2.7.tgz\n",
        "!tar xf spark-2.4.4-bin-hadoop2.7.tgz\n",
        "!pip install -q findspark\n",
        "import os\n",
        "os.environ[\"JAVA_HOME\"] = \"/usr/lib/jvm/java-8-openjdk-amd64\"\n",
        "os.environ[\"SPARK_HOME\"] = \"/content/spark-2.4.4-bin-hadoop2.7\"\n",
        "import findspark\n",
        "findspark.init()"
      ],
      "execution_count": 0,
      "outputs": []
    },
    {
      "cell_type": "markdown",
      "metadata": {
        "id": "1-MHkIkCMHtd",
        "colab_type": "text"
      },
      "source": [
        "# 1. Run clustering on data.txt with c1.txt and c2.txt as initial centroids and use L1\n",
        "distance as similarity measurement. Compute and plot the within-cluster cost for\n",
        "each iteration. You’ll need to submit two graphs here."
      ]
    },
    {
      "cell_type": "markdown",
      "metadata": {
        "id": "utDrMiu7MKzY",
        "colab_type": "text"
      },
      "source": [
        "# 2. Run clustering on data.txt with c1.txt and c2.txt as initial centroids and use L2\n",
        "distance as similarity measurement. Compute and plot the within-cluster cost for\n",
        "each iteration. You’ll need to submit two graphs here."
      ]
    },
    {
      "cell_type": "markdown",
      "metadata": {
        "id": "g1JUDpxxMSIO",
        "colab_type": "text"
      },
      "source": [
        "# 3. T-SNE is a dimensionality reduction method particularly suitable for visualization\n",
        "of high-dimensional data. Visualize your clustering assignment result of (2) by\n",
        "reducing the dimension to a 2D space. You’ll need to submit two graphs here."
      ]
    },
    {
      "cell_type": "markdown",
      "metadata": {
        "id": "1NOWSyDYMVRy",
        "colab_type": "text"
      },
      "source": [
        "# 4. For L2 and L1 distance, are random initialization of K-means using c1.txt better\n",
        "than initialization using c2.txt in terms of cost? Explain your reasoning."
      ]
    }
  ]
}