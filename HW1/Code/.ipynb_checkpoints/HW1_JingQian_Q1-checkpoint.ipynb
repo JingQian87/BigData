{
 "cells": [
  {
   "cell_type": "markdown",
   "metadata": {
    "colab_type": "text",
    "id": "Nn0ggvnSofyY"
   },
   "source": [
    "# Install Spark"
   ]
  },
  {
   "cell_type": "code",
   "execution_count": 0,
   "metadata": {
    "colab": {},
    "colab_type": "code",
    "collapsed": true,
    "id": "zaCsFhDyLBYF"
   },
   "outputs": [],
   "source": [
    "# Install latest version of spark. If error, check the latest and replace \"spark-2.4.4\"\n",
    "!apt-get install openjdk-8-jdk-headless -qq > /dev/null\n",
    "!wget -q https://www-us.apache.org/dist/spark/spark-2.4.4/spark-2.4.4-bin-hadoop2.7.tgz\n",
    "!tar xf spark-2.4.4-bin-hadoop2.7.tgz\n",
    "!pip install -q findspark\n",
    "import os\n",
    "os.environ[\"JAVA_HOME\"] = \"/usr/lib/jvm/java-8-openjdk-amd64\"\n",
    "os.environ[\"SPARK_HOME\"] = \"/content/spark-2.4.4-bin-hadoop2.7\"\n",
    "import findspark\n",
    "findspark.init()"
   ]
  },
  {
   "cell_type": "code",
   "execution_count": 115,
   "metadata": {
    "colab": {
     "base_uri": "https://localhost:8080/",
     "height": 34
    },
    "colab_type": "code",
    "id": "QRGdIJoNx4JE",
    "outputId": "8c5f85ef-c90c-41b2-fdb8-ce935cea3d9f"
   },
   "outputs": [
    {
     "name": "stdout",
     "output_type": "stream",
     "text": [
      "Mounted at /content/gdrive\n"
     ]
    }
   ],
   "source": [
    "import numpy as np\n",
    "import pandas as pd\n",
    "\n",
    "from google.colab import drive\n",
    "drive.mount('/content/gdrive')"
   ]
  },
  {
   "cell_type": "markdown",
   "metadata": {
    "colab_type": "text",
    "id": "iapbDLjcoiWg"
   },
   "source": [
    "# Q1. Implement iterative K-means in Spark\n",
    "Based on the kmeans.py provided"
   ]
  },
  {
   "cell_type": "code",
   "execution_count": 0,
   "metadata": {
    "colab": {},
    "colab_type": "code",
    "collapsed": true,
    "id": "Y54y7ug_odYA"
   },
   "outputs": [],
   "source": [
    "import operator\n",
    "import sys\n",
    "from pyspark import SparkConf, SparkContext\n",
    "import numpy as np\n",
    "import matplotlib.pyplot as plt\n",
    "from scipy import linalg"
   ]
  },
  {
   "cell_type": "code",
   "execution_count": 0,
   "metadata": {
    "colab": {},
    "colab_type": "code",
    "collapsed": true,
    "id": "XlPsRmz6oum_"
   },
   "outputs": [],
   "source": [
    "# Macros.\n",
    "MAX_ITER = 20\n",
    "DATA_PATH = \"/content/gdrive/My Drive/BigData/q1/data.txt\"\n",
    "C1_PATH = \"/content/gdrive/My Drive/BigData/q1/c1.txt\"\n",
    "C2_PATH = \"/content/gdrive/My Drive/BigData/q1/c2.txt\"\n",
    "NORM = 2"
   ]
  },
  {
   "cell_type": "code",
   "execution_count": 0,
   "metadata": {
    "colab": {},
    "colab_type": "code",
    "collapsed": true,
    "id": "UpuQNCYxpaNI"
   },
   "outputs": [],
   "source": [
    "# Load data (corresponding to the def main())\n",
    "# Spark settings\n",
    "conf = SparkConf()\n",
    "sc = SparkContext(conf=conf)\n",
    "# Load the data, cache this since we're accessing this each iteration\n",
    "data = sc.textFile(DATA_PATH).map(\n",
    "        lambda line: np.array([float(x) for x in line.split(' ')])\n",
    "        ).cache()\n",
    "# Load the initial centroids c1, split into a list of np arrays\n",
    "centroids1 = sc.textFile(C1_PATH).map(\n",
    "        lambda line: np.array([float(x) for x in line.split(' ')])\n",
    "        ).collect()\n",
    "# Load the initial centroids c2, split into a list of np arrays\n",
    "centroids2 = sc.textFile(C2_PATH).map(\n",
    "        lambda line: np.array([float(x) for x in line.split(' ')])\n",
    "        ).collect()"
   ]
  },
  {
   "cell_type": "code",
   "execution_count": 0,
   "metadata": {
    "colab": {},
    "colab_type": "code",
    "collapsed": true,
    "id": "3Nj-Ea9-pTbr"
   },
   "outputs": [],
   "source": [
    "# Helper functions.\n",
    "def closest(p, centroids, norm):\n",
    "    \"\"\"\n",
    "    Compute closest centroid for a given point.\n",
    "    Args:\n",
    "        p (numpy.ndarray): input point\n",
    "        centroids (list): A list of centroids points\n",
    "        norm (int): 1 or 2\n",
    "    Returns:\n",
    "        int: The index of closest centroid.\n",
    "    \"\"\"\n",
    "    closest_c = min([(i, linalg.norm(p - c, norm))\n",
    "                    for i, c in enumerate(centroids)],\n",
    "                    key=operator.itemgetter(1))[0]\n",
    "    return closest_c"
   ]
  },
  {
   "cell_type": "code",
   "execution_count": 0,
   "metadata": {
    "colab": {},
    "colab_type": "code",
    "collapsed": true,
    "id": "BY-N6ubtaFkC"
   },
   "outputs": [],
   "source": [
    "def dist(centroid, p, norm):\n",
    "    \"\"\"\n",
    "    Compute closest centroid for a given point.\n",
    "    Args:\n",
    "        centroid (numpy.ndarray): centroid of the cluster p belongs to\n",
    "        p (numpy.ndarray): input point        \n",
    "        norm (int): 1 or 2\n",
    "    Returns:\n",
    "        float: the distance between centroid and p.\n",
    "    \"\"\"\n",
    "    res = 0\n",
    "    if norm == 1:\n",
    "      res = linalg.norm(p - centroid, norm)\n",
    "    elif norm == 2:\n",
    "      res = linalg.norm(p - centroid, norm) ** 2\n",
    "    return res"
   ]
  },
  {
   "cell_type": "code",
   "execution_count": 0,
   "metadata": {
    "colab": {},
    "colab_type": "code",
    "collapsed": true,
    "id": "gntuuB2dp-iA"
   },
   "outputs": [],
   "source": [
    "# K-means clustering\n",
    "def kmeans(data, centroids, norm=2):\n",
    "    \"\"\"\n",
    "    Conduct k-means clustering given data and centroid.\n",
    "    This is the basic version of k-means, you might need more\n",
    "    code to record cluster assignment to plot TSNE, and more\n",
    "    data structure to record cost.\n",
    "    Args:\n",
    "        data (RDD): RDD of points\n",
    "        centroids (list): A list of centroids points\n",
    "        norm (int): 1 or 2\n",
    "    Returns:\n",
    "        RDD: assignment information of points, a RDD of (centroid, (point, 1))\n",
    "        list: a list of centroids\n",
    "        loss: a list of within-cluster cost\n",
    "    \"\"\"\n",
    "    # iterative k-means\n",
    "    loss = []\n",
    "    for _ in range(MAX_ITER):\n",
    "        # Transform each point to a combo of point, closest centroid, count=1\n",
    "        # point -> (closest_centroid, (point, 1))\n",
    "        data_trans = data.map(lambda p:(closest(p, centroids,norm),(p,1)))\n",
    "\n",
    "        # Compute the loss\n",
    "        data_dist = data_trans.map(lambda p: dist(centroids[p[0]], p[1][0], norm))\n",
    "        loss.append(sum(data_dist.collect()))\n",
    "        \n",
    "        # Re-compute cluster center\n",
    "        # For each cluster center (key), aggregate its values\n",
    "        # by summing up points and count\n",
    "        clusters = data_trans.reduceByKey(lambda p1_c, p2_c: (p1_c[0]+p2_c[0], p1_c[1]+p2_c[1]))\n",
    "        \n",
    "        # Average the points for each centroid: divide sum of points by count\n",
    "        # Use collect() to turn RDD into list\n",
    "        centroids = clusters.map(lambda c:c[1][0]/c[1][1]).collect()\n",
    "        \n",
    "    return data_trans, centroids, loss"
   ]
  },
  {
   "cell_type": "markdown",
   "metadata": {
    "colab_type": "text",
    "id": "H-mhCT9-ufUY"
   },
   "source": [
    "## (1). Within-cluster cost using L1 distance.\n",
    "Run clustering on data.txt with c1.txt and c2.txt as initial centroids and use L1 distance as similarity measurement. Compute and plot the within-cluster cost for each iteration."
   ]
  },
  {
   "cell_type": "code",
   "execution_count": 0,
   "metadata": {
    "colab": {},
    "colab_type": "code",
    "collapsed": true,
    "id": "SGkKgPZhugsw"
   },
   "outputs": [],
   "source": [
    "data11, centroids11, loss11 = kmeans(data, centroids1, norm=1)\n",
    "data21, centroids21, loss21 = kmeans(data, centroids2, norm=1)"
   ]
  },
  {
   "cell_type": "code",
   "execution_count": 14,
   "metadata": {
    "colab": {
     "base_uri": "https://localhost:8080/",
     "height": 295
    },
    "colab_type": "code",
    "id": "00noje0_bEJv",
    "outputId": "93da7b27-bee2-4a97-9be5-a5342dfee0ab"
   },
   "outputs": [
    {
     "data": {
      "image/png": "[encoded data removed]",
      "text/plain": [
       "<Figure size 432x288 with 1 Axes>"
      ]
     },
     "metadata": {
      "tags": []
     },
     "output_type": "display_data"
    }
   ],
   "source": [
    "import matplotlib.pyplot as plt\n",
    "x = np.arange(1,21)\n",
    "plt.plot(x,loss11, label='c1 (random initialization)')\n",
    "plt.plot(x,loss21, label='c2 (farthest initialization)')\n",
    "plt.title('Results using L1 distance')\n",
    "plt.xlabel('Iteration number')\n",
    "plt.ylabel('Cost')\n",
    "plt.legend()\n",
    "plt.savefig('/content/gdrive/My Drive/BigData/q1/Q1_1.png')"
   ]
  },
  {
   "cell_type": "markdown",
   "metadata": {
    "colab_type": "text",
    "id": "P9N0UthKZKMX"
   },
   "source": [
    "## (2). Within-cluster cost using L2 distance.\n",
    "Run clustering on data.txt with c1.txt and c2.txt as initial centroids and use L2 distance as similarity measurement. Compute and plot the within-cluster cost for each iteration."
   ]
  },
  {
   "cell_type": "code",
   "execution_count": 0,
   "metadata": {
    "colab": {},
    "colab_type": "code",
    "collapsed": true,
    "id": "ou2h8AN_T1NW"
   },
   "outputs": [],
   "source": [
    "data12, centroids12, loss12 = kmeans(data, centroids1, norm=2)\n",
    "data22, centroids22, loss22 = kmeans(data, centroids2, norm=2)"
   ]
  },
  {
   "cell_type": "code",
   "execution_count": 13,
   "metadata": {
    "colab": {
     "base_uri": "https://localhost:8080/",
     "height": 295
    },
    "colab_type": "code",
    "id": "maw0aSRWa6su",
    "outputId": "16d7307d-73f8-414f-8624-d9c5a0986bb6"
   },
   "outputs": [
    {
     "data": {
      "image/png": "[encoded data removed]",
      "text/plain": [
       "<Figure size 432x288 with 1 Axes>"
      ]
     },
     "metadata": {
      "tags": []
     },
     "output_type": "display_data"
    }
   ],
   "source": [
    "import matplotlib.pyplot as plt\n",
    "x = np.arange(1,21)\n",
    "plt.plot(x,loss12, label='c1 (random initialization)')\n",
    "plt.plot(x,loss22, label='c2 (farthest initialization)')\n",
    "plt.title('Results using L2 distance')\n",
    "plt.xlabel('Iteration number')\n",
    "plt.ylabel('Cost')\n",
    "plt.legend()\n",
    "plt.savefig('/content/gdrive/My Drive/BigData/q1/Q1_2.png')"
   ]
  },
  {
   "cell_type": "markdown",
   "metadata": {
    "colab_type": "text",
    "id": "OmelhH0sj61a"
   },
   "source": [
    "## (3) Visualize clustering result of (2) by T-SNE"
   ]
  },
  {
   "cell_type": "code",
   "execution_count": 0,
   "metadata": {
    "colab": {},
    "colab_type": "code",
    "collapsed": true,
    "id": "SToBjtp7j6Wa"
   },
   "outputs": [],
   "source": [
    "from sklearn.manifold import TSNE"
   ]
  },
  {
   "cell_type": "code",
   "execution_count": 0,
   "metadata": {
    "colab": {},
    "colab_type": "code",
    "collapsed": true,
    "id": "c1zaC4GYqTH4"
   },
   "outputs": [],
   "source": [
    "data12_np = np.array(data12.collect())\n",
    "keys12 = data12_np[:,0]"
   ]
  },
  {
   "cell_type": "code",
   "execution_count": 110,
   "metadata": {
    "colab": {
     "base_uri": "https://localhost:8080/",
     "height": 34
    },
    "colab_type": "code",
    "id": "IjuXwSzBsStx",
    "outputId": "d1aae173-74dc-46cf-89b6-b20b21042c4f"
   },
   "outputs": [
    {
     "name": "stdout",
     "output_type": "stream",
     "text": [
      "(4601, 58) (4601, 2)\n"
     ]
    }
   ],
   "source": [
    "values12 = []\n",
    "for i in data12_np:\n",
    "  values12.append(i[1][0])\n",
    "values12_embedded = TSNE(n_components=2, random_state=100).fit_transform(values12)\n",
    "print(np.shape(values12), np.shape(values12_embedded))"
   ]
  },
  {
   "cell_type": "code",
   "execution_count": 122,
   "metadata": {
    "colab": {
     "base_uri": "https://localhost:8080/",
     "height": 298
    },
    "colab_type": "code",
    "id": "leTSWZygoifl",
    "outputId": "fa0fa6a2-5398-4317-b520-f2a8095cd7a5"
   },
   "outputs": [
    {
     "data": {
      "text/plain": [
       "Text(0.5, 1.0, 't-SNE results (c1 initialization, L2 dist, random_state=100)')"
      ]
     },
     "execution_count": 122,
     "metadata": {
      "tags": []
     },
     "output_type": "execute_result"
    },
    {
     "data": {
      "image/png": "[encoded data removed]",
      "text/plain": [
       "<Figure size 432x288 with 1 Axes>"
      ]
     },
     "metadata": {
      "tags": []
     },
     "output_type": "display_data"
    }
   ],
   "source": [
    "colors = ['#1f77b4', '#ff7f0e', '#2ca02c', '#d62728', '#9467bd',\n",
    " '#8c564b', '#e377c2', '#7f7f7f', '#bcbd22', '#17becf']\n",
    "\n",
    "for i in range(len(keys)):\n",
    "  plt.scatter(values12_embedded[i][0], values12_embedded[i][1], color=colors[keys[i]])\n",
    "plt.title(\"t-SNE results (c1 initialization, L2 dist, random_state=100)\")"
   ]
  },
  {
   "cell_type": "code",
   "execution_count": 123,
   "metadata": {
    "colab": {
     "base_uri": "https://localhost:8080/",
     "height": 34
    },
    "colab_type": "code",
    "id": "Oxvwhp-XpYH7",
    "outputId": "c1d91ecb-8851-4074-8f19-159ed4d605b9"
   },
   "outputs": [
    {
     "name": "stdout",
     "output_type": "stream",
     "text": [
      "(4601, 58) (4601, 2)\n"
     ]
    }
   ],
   "source": [
    "data22_np = np.array(data22.collect())\n",
    "keys22 = data22_np[:,0]\n",
    "values22 = []\n",
    "for i in data22_np:\n",
    "  values22.append(i[1][0])\n",
    "values22_embedded = TSNE(n_components=2, random_state=100).fit_transform(values22)\n",
    "print(np.shape(values22), np.shape(values22_embedded))"
   ]
  },
  {
   "cell_type": "code",
   "execution_count": 124,
   "metadata": {
    "colab": {
     "base_uri": "https://localhost:8080/",
     "height": 298
    },
    "colab_type": "code",
    "id": "ga0sIg8Jg_bg",
    "outputId": "144d3813-a312-4d10-9c16-87254c899b34"
   },
   "outputs": [
    {
     "data": {
      "text/plain": [
       "Text(0.5, 1.0, 't-SNE results (c2 initialization, L2 dist, random_state=100)')"
      ]
     },
     "execution_count": 124,
     "metadata": {
      "tags": []
     },
     "output_type": "execute_result"
    },
    {
     "data": {
      "image/png": "[encoded data removed]",
      "text/plain": [
       "<Figure size 432x288 with 1 Axes>"
      ]
     },
     "metadata": {
      "tags": []
     },
     "output_type": "display_data"
    }
   ],
   "source": [
    "for i in range(len(keys22)):\n",
    "  plt.scatter(values22_embedded[i][0], values22_embedded[i][1], color=colors[keys22[i]])\n",
    "plt.title(\"t-SNE results (c2 initialization, L2 dist, random_state=100)\")"
   ]
  },
  {
   "cell_type": "markdown",
   "metadata": {
    "colab_type": "text",
    "id": "4cs0Dp120EU3"
   },
   "source": [
    "## (4) For L2 and L1 distance, are random initialization of K-means using c1.txt better than initialization using c2.txt in terms of cost? Explain your reasoning.\n",
    "\n",
    "For L1 distance, the random initialization of K-means is much better than that using c2.txt in terms of cost. Although the cost of farthest initialization decreases with the increasing of iterate times, it is far above that from random initialization. I suppose that the definition of \"farthest\" in farthest initialization refers to the L2 distance between points and hence it may not behave well on the L1 distance clustering. Also, farthest initialization is sensitive to outliers, which may contributes to the high cost of L1 distance clustering cost.\n",
    "\n",
    "For L2 distance, the random initialization of K-means is worse than using c2.txt in terms of cost. Although both costs decrease with the increasing of iterate times, the cost of c1 is all above c2 in the plot. As previous analysis, considering the farthest initialization defined as points with farthest L2 distance, the clusters in the first running already tended to spread apart. And so the farthest initialization using c2.txt has lower cost for L2 distance than random initialization.\n"
   ]
  },
  {
   "cell_type": "markdown",
   "metadata": {
    "colab_type": "text",
    "id": "4cs0Dp120EU3"
   },
   "source": [
    "## (5) What is the time complexity of the iterative K-means?\n",
    "\n",
    "The iterative K-means includes three layers of loops: the outer loop iterates MAX_ITER times, the intermediate loop iterates on all points in the dataset and the inner loop iterates over k clusters/centroids. So the time complexity of the iterative K-means is O(k\\*MAX_ITER\\*#points). \n"
   ]
  },
  {
   "cell_type": "code",
   "execution_count": 0,
   "metadata": {
    "colab": {},
    "colab_type": "code",
    "collapsed": true,
    "id": "zLdoCnw1kpHF"
   },
   "outputs": [],
   "source": []
  }
 ],
 "metadata": {
  "accelerator": "GPU",
  "colab": {
   "collapsed_sections": [],
   "name": "HW1-BigData-1.ipynb",
   "provenance": []
  },
  "kernelspec": {
   "display_name": "Python 3",
   "language": "python",
   "name": "python3"
  },
  "language_info": {
   "codemirror_mode": {
    "name": "ipython",
    "version": 3
   },
   "file_extension": ".py",
   "mimetype": "text/x-python",
   "name": "python",
   "nbconvert_exporter": "python",
   "pygments_lexer": "ipython3",
   "version": "3.6.1"
  }
 },
 "nbformat": 4,
 "nbformat_minor": 1
}
